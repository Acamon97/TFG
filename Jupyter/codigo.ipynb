{
 "cells": [
  {
   "cell_type": "code",
   "execution_count": null,
   "metadata": {
    "scrolled": true
   },
   "outputs": [],
   "source": [
    "#install.packages(c(\"tidyverse\", \"tidytext\", \"dplyr\", \"ggplot2\", \"wordcloud\"))\n",
    "\n",
    "library(tidyverse)\n",
    "library(tidytext)\n",
    "library(dplyr)\n",
    "library(ggplot2)\n",
    "library(wordcloud)"
   ]
  },
  {
   "cell_type": "code",
   "execution_count": 1,
   "metadata": {
    "scrolled": true
   },
   "outputs": [
    {
     "name": "stdout",
     "output_type": "stream",
     "text": [
      "'data.frame':\t253454 obs. of  19 variables:\n",
      " $ cord_uid        : chr  \"ug7v899j\" \"02tnwd4m\" \"ejv2xln0\" \"2b73a28n\" ...\n",
      " $ sha             : chr  \"d1aafb70c066a2068b02786f8929fd9c900897fb\" \"6b0567729c2143a66d737eb0a2f63f2dce2e5a7d\" \"06ced00a5fc04215949aa72528f2eeaae1d58927\" \"348055649b6b8cf2b9a376498df9bf41f7123605\" ...\n",
      " $ source_x        : chr  \"PMC\" \"PMC\" \"PMC\" \"PMC\" ...\n",
      " $ title           : chr  \"Clinical features of culture-proven Mycoplasma pneumoniae infections at King Abdulaziz University Hospital, Jed\"| __truncated__ \"Nitric oxide: a pro-inflammatory mediator in lung disease?\" \"Surfactant protein-D and pulmonary host defense\" \"Role of endothelin-1 in lung disease\" ...\n",
      " $ doi             : chr  \"10.1186/1471-2334-1-6\" \"10.1186/rr14\" \"10.1186/rr19\" \"10.1186/rr44\" ...\n",
      " $ pmcid           : chr  \"PMC35282\" \"PMC59543\" \"PMC59549\" \"PMC59574\" ...\n",
      " $ pubmed_id       : chr  \"11472636\" \"11667967\" \"11667972\" \"11686871\" ...\n",
      " $ license         : chr  \"no-cc\" \"no-cc\" \"no-cc\" \"no-cc\" ...\n",
      " $ abstract        : chr  \"OBJECTIVE: This retrospective chart review describes the epidemiology and clinical features of 40 patients with\"| __truncated__ \"Inflammatory diseases of the respiratory tract are commonly associated with elevated production of nitric oxide\"| __truncated__ \"Surfactant protein-D (SP-D) participates in the innate response to inhaled microorganisms and organic antigens,\"| __truncated__ \"Endothelin-1 (ET-1) is a 21 amino acid peptide with diverse biological activity that has been implicated in num\"| __truncated__ ...\n",
      " $ publish_time    : chr  \"2001-07-04\" \"2000-08-15\" \"2000-08-25\" \"2001-02-22\" ...\n",
      " $ authors         : chr  \"Madani, Tariq A; Al-Ghamdi, Aisha A\" \"Vliet, Albert van der; Eiserich, Jason P; Cross, Carroll E\" \"Crouch, Erika C\" \"Fagan, Karen A; McMurtry, Ivan F; Rodman, David M\" ...\n",
      " $ journal         : chr  \"BMC Infect Dis\" \"Respir Res\" \"Respir Res\" \"Respir Res\" ...\n",
      " $ mag_id          : logi  NA NA NA NA NA NA ...\n",
      " $ who_covidence_id: chr  NA NA NA NA ...\n",
      " $ arxiv_id        : chr  NA NA NA NA ...\n",
      " $ pdf_json_files  : chr  \"document_parses/pdf_json/d1aafb70c066a2068b02786f8929fd9c900897fb.json\" \"document_parses/pdf_json/6b0567729c2143a66d737eb0a2f63f2dce2e5a7d.json\" \"document_parses/pdf_json/06ced00a5fc04215949aa72528f2eeaae1d58927.json\" \"document_parses/pdf_json/348055649b6b8cf2b9a376498df9bf41f7123605.json\" ...\n",
      " $ pmc_json_files  : chr  \"document_parses/pmc_json/PMC35282.xml.json\" \"document_parses/pmc_json/PMC59543.xml.json\" \"document_parses/pmc_json/PMC59549.xml.json\" \"document_parses/pmc_json/PMC59574.xml.json\" ...\n",
      " $ url             : chr  \"https://www.ncbi.nlm.nih.gov/pmc/articles/PMC35282/\" \"https://www.ncbi.nlm.nih.gov/pmc/articles/PMC59543/\" \"https://www.ncbi.nlm.nih.gov/pmc/articles/PMC59549/\" \"https://www.ncbi.nlm.nih.gov/pmc/articles/PMC59574/\" ...\n",
      " $ s2_id           : int  NA NA NA NA NA NA NA NA NA NA ...\n"
     ]
    }
   ],
   "source": [
    "# Cargamos los datos del archivo \"metadata.csv\"\n",
    "# stringAsFactors evita que las cadenas de texto se conviertan en factores\n",
    "# na.strings indica qué consideramos valores nulos. En este caso celdas vacías y \"NA\"\n",
    "datos <- read.csv(\"D:/COVID/metadata.csv\", stringsAsFactors = FALSE, na.strings = c(\"\", \"NA\"))\n",
    "\n",
    "# str() permite ver la estructura del archivo: número de filas, columnas y muestra el primero objeto almacenado\n",
    "str(datos)\n"
   ]
  },
  {
   "cell_type": "code",
   "execution_count": null,
   "metadata": {
    "scrolled": true
   },
   "outputs": [],
   "source": [
    "X <- datos %>%\n",
    "  unnest_tokens(word, abstract) %>%\n",
    "  anti_join(stop_words) %>%\n",
    "  count(word, sort = TRUE)%>%\n",
    "  with(wordcloud(word, n, max.words = 200))"
   ]
  },
  {
   "cell_type": "code",
   "execution_count": null,
   "metadata": {},
   "outputs": [],
   "source": []
  }
 ],
 "metadata": {
  "kernelspec": {
   "display_name": "R",
   "language": "R",
   "name": "ir"
  },
  "language_info": {
   "codemirror_mode": "r",
   "file_extension": ".r",
   "mimetype": "text/x-r-source",
   "name": "R",
   "pygments_lexer": "r",
   "version": "3.6.1"
  }
 },
 "nbformat": 4,
 "nbformat_minor": 4
}
