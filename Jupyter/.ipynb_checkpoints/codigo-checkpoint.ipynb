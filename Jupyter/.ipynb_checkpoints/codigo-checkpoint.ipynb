{
 "cells": [
  {
   "cell_type": "code",
   "execution_count": 1,
   "metadata": {
    "scrolled": true
   },
   "outputs": [
    {
     "name": "stderr",
     "output_type": "stream",
     "text": [
      "Warning message:\n",
      "\"package 'tidyverse' was built under R version 3.6.3\"\n",
      "-- \u001b[1mAttaching packages\u001b[22m --------------------------------------- tidyverse 1.3.0 --\n",
      "\n",
      "\u001b[32mv\u001b[39m \u001b[34mggplot2\u001b[39m 3.3.2     \u001b[32mv\u001b[39m \u001b[34mpurrr  \u001b[39m 0.3.4\n",
      "\u001b[32mv\u001b[39m \u001b[34mtibble \u001b[39m 3.0.3     \u001b[32mv\u001b[39m \u001b[34mdplyr  \u001b[39m 1.0.2\n",
      "\u001b[32mv\u001b[39m \u001b[34mtidyr  \u001b[39m 1.1.2     \u001b[32mv\u001b[39m \u001b[34mstringr\u001b[39m 1.4.0\n",
      "\u001b[32mv\u001b[39m \u001b[34mreadr  \u001b[39m 1.3.1     \u001b[32mv\u001b[39m \u001b[34mforcats\u001b[39m 0.5.0\n",
      "\n",
      "Warning message:\n",
      "\"package 'ggplot2' was built under R version 3.6.3\"\n",
      "Warning message:\n",
      "\"package 'tibble' was built under R version 3.6.3\"\n",
      "Warning message:\n",
      "\"package 'tidyr' was built under R version 3.6.3\"\n",
      "Warning message:\n",
      "\"package 'purrr' was built under R version 3.6.3\"\n",
      "Warning message:\n",
      "\"package 'dplyr' was built under R version 3.6.3\"\n",
      "Warning message:\n",
      "\"package 'forcats' was built under R version 3.6.3\"\n",
      "-- \u001b[1mConflicts\u001b[22m ------------------------------------------ tidyverse_conflicts() --\n",
      "\u001b[31mx\u001b[39m \u001b[34mdplyr\u001b[39m::\u001b[32mfilter()\u001b[39m masks \u001b[34mstats\u001b[39m::filter()\n",
      "\u001b[31mx\u001b[39m \u001b[34mdplyr\u001b[39m::\u001b[32mlag()\u001b[39m    masks \u001b[34mstats\u001b[39m::lag()\n",
      "\n",
      "Warning message:\n",
      "\"package 'quanteda' was built under R version 3.6.3\"\n",
      "Package version: 2.1.2\n",
      "\n",
      "Parallel computing: 2 of 16 threads used.\n",
      "\n",
      "See https://quanteda.io for tutorials and examples.\n",
      "\n",
      "\n",
      "Attaching package: 'quanteda'\n",
      "\n",
      "\n",
      "The following object is masked from 'jupyter:irkernel':\n",
      "\n",
      "    View\n",
      "\n",
      "\n",
      "The following object is masked from 'package:utils':\n",
      "\n",
      "    View\n",
      "\n",
      "\n",
      "Warning message:\n",
      "\"package 'feather' was built under R version 3.6.3\"\n",
      "Warning message:\n",
      "\"package 'cld2' was built under R version 3.6.3\"\n",
      "Warning message:\n",
      "\"package 'plotly' was built under R version 3.6.3\"\n",
      "\n",
      "Attaching package: 'plotly'\n",
      "\n",
      "\n",
      "The following object is masked from 'package:ggplot2':\n",
      "\n",
      "    last_plot\n",
      "\n",
      "\n",
      "The following object is masked from 'package:stats':\n",
      "\n",
      "    filter\n",
      "\n",
      "\n",
      "The following object is masked from 'package:graphics':\n",
      "\n",
      "    layout\n",
      "\n",
      "\n",
      "Warning message:\n",
      "\"package 'scales' was built under R version 3.6.3\"\n",
      "\n",
      "Attaching package: 'scales'\n",
      "\n",
      "\n",
      "The following object is masked from 'package:purrr':\n",
      "\n",
      "    discard\n",
      "\n",
      "\n",
      "The following object is masked from 'package:readr':\n",
      "\n",
      "    col_factor\n",
      "\n",
      "\n",
      "Warning message:\n",
      "\"package 'cowplot' was built under R version 3.6.3\"\n",
      "Warning message:\n",
      "\"package 'tau' was built under R version 3.6.3\"\n",
      "\n",
      "Attaching package: 'tau'\n",
      "\n",
      "\n",
      "The following object is masked from 'package:readr':\n",
      "\n",
      "    tokenize\n",
      "\n",
      "\n",
      "Warning message:\n",
      "\"package 'stopwords' was built under R version 3.6.3\"\n",
      "Warning message:\n",
      "\"package 'tm' was built under R version 3.6.3\"\n",
      "Loading required package: NLP\n",
      "\n",
      "\n",
      "Attaching package: 'NLP'\n",
      "\n",
      "\n",
      "The following objects are masked from 'package:quanteda':\n",
      "\n",
      "    meta, meta<-\n",
      "\n",
      "\n",
      "The following object is masked from 'package:ggplot2':\n",
      "\n",
      "    annotate\n",
      "\n",
      "\n",
      "\n",
      "Attaching package: 'tm'\n",
      "\n",
      "\n",
      "The following object is masked from 'package:stopwords':\n",
      "\n",
      "    stopwords\n",
      "\n",
      "\n",
      "The following objects are masked from 'package:quanteda':\n",
      "\n",
      "    as.DocumentTermMatrix, stopwords\n",
      "\n",
      "\n",
      "Warning message:\n",
      "\"package 'textstem' was built under R version 3.6.3\"\n",
      "Loading required package: koRpus.lang.en\n",
      "\n",
      "Warning message:\n",
      "\"package 'koRpus.lang.en' was built under R version 3.6.3\"\n",
      "Loading required package: koRpus\n",
      "\n",
      "Loading required package: sylly\n",
      "\n",
      "For information on available language packages for 'koRpus', run\n",
      "\n",
      "  available.koRpus.lang()\n",
      "\n",
      "and see ?install.koRpus.lang()\n",
      "\n",
      "\n",
      "\n",
      "Attaching package: 'koRpus'\n",
      "\n",
      "\n",
      "The following object is masked from 'package:tm':\n",
      "\n",
      "    readTagged\n",
      "\n",
      "\n",
      "The following object is masked from 'package:tau':\n",
      "\n",
      "    tokenize\n",
      "\n",
      "\n",
      "The following objects are masked from 'package:quanteda':\n",
      "\n",
      "    tokens, types\n",
      "\n",
      "\n",
      "The following object is masked from 'package:readr':\n",
      "\n",
      "    tokenize\n",
      "\n",
      "\n",
      "Warning message:\n",
      "\"package 'pbapply' was built under R version 3.6.3\"\n",
      "Warning message:\n",
      "\"package 'text2vec' was built under R version 3.6.3\"\n",
      "Warning message:\n",
      "\"package 'rlist' was built under R version 3.6.3\"\n",
      "Warning message:\n",
      "\"package 'wordcloud' was built under R version 3.6.3\"\n",
      "Loading required package: RColorBrewer\n",
      "\n",
      "Warning message:\n",
      "\"package 'dbscan' was built under R version 3.6.3\"\n"
     ]
    }
   ],
   "source": [
    "#install.packages(c('tidyverse', 'tidytext\", 'dplyr', 'ggplot2', 'wordcloud','rjson', 'quanteda', 'feather', 'cld2', 'ggplot2', 'plotly', 'scales', 'cowplot', 'tau', 'stopwords', 'tm', 'textstem', 'pbapply', 'text2vec', 'rlist', 'dbscan'))\n",
    "\n",
    "library(rjson); library(tidyverse); library(quanteda); library(feather); library(cld2); library(ggplot2); library(plotly); library(scales); library(cowplot); library(tau); library(stopwords); library(tm); library(textstem); library(pbapply); library(text2vec); library(rlist); library(wordcloud); library(dbscan)"
   ]
  },
  {
   "cell_type": "markdown",
   "metadata": {},
   "source": [
    "CODIGO PARA CARGAR METADATA Y VER SU ESTRUCTURA"
   ]
  },
  {
   "cell_type": "code",
   "execution_count": 2,
   "metadata": {
    "scrolled": false
   },
   "outputs": [
    {
     "name": "stdout",
     "output_type": "stream",
     "text": [
      "'data.frame':\t253454 obs. of  19 variables:\n",
      " $ cord_uid        : chr  \"ug7v899j\" \"02tnwd4m\" \"ejv2xln0\" \"2b73a28n\" ...\n",
      " $ sha             : chr  \"d1aafb70c066a2068b02786f8929fd9c900897fb\" \"6b0567729c2143a66d737eb0a2f63f2dce2e5a7d\" \"06ced00a5fc04215949aa72528f2eeaae1d58927\" \"348055649b6b8cf2b9a376498df9bf41f7123605\" ...\n",
      " $ source_x        : chr  \"PMC\" \"PMC\" \"PMC\" \"PMC\" ...\n",
      " $ title           : chr  \"Clinical features of culture-proven Mycoplasma pneumoniae infections at King Abdulaziz University Hospital, Jed\"| __truncated__ \"Nitric oxide: a pro-inflammatory mediator in lung disease?\" \"Surfactant protein-D and pulmonary host defense\" \"Role of endothelin-1 in lung disease\" ...\n",
      " $ doi             : chr  \"10.1186/1471-2334-1-6\" \"10.1186/rr14\" \"10.1186/rr19\" \"10.1186/rr44\" ...\n",
      " $ pmcid           : chr  \"PMC35282\" \"PMC59543\" \"PMC59549\" \"PMC59574\" ...\n",
      " $ pubmed_id       : chr  \"11472636\" \"11667967\" \"11667972\" \"11686871\" ...\n",
      " $ license         : chr  \"no-cc\" \"no-cc\" \"no-cc\" \"no-cc\" ...\n",
      " $ abstract        : chr  \"OBJECTIVE: This retrospective chart review describes the epidemiology and clinical features of 40 patients with\"| __truncated__ \"Inflammatory diseases of the respiratory tract are commonly associated with elevated production of nitric oxide\"| __truncated__ \"Surfactant protein-D (SP-D) participates in the innate response to inhaled microorganisms and organic antigens,\"| __truncated__ \"Endothelin-1 (ET-1) is a 21 amino acid peptide with diverse biological activity that has been implicated in num\"| __truncated__ ...\n",
      " $ publish_time    : chr  \"2001-07-04\" \"2000-08-15\" \"2000-08-25\" \"2001-02-22\" ...\n",
      " $ authors         : chr  \"Madani, Tariq A; Al-Ghamdi, Aisha A\" \"Vliet, Albert van der; Eiserich, Jason P; Cross, Carroll E\" \"Crouch, Erika C\" \"Fagan, Karen A; McMurtry, Ivan F; Rodman, David M\" ...\n",
      " $ journal         : chr  \"BMC Infect Dis\" \"Respir Res\" \"Respir Res\" \"Respir Res\" ...\n",
      " $ mag_id          : logi  NA NA NA NA NA NA ...\n",
      " $ who_covidence_id: chr  NA NA NA NA ...\n",
      " $ arxiv_id        : chr  NA NA NA NA ...\n",
      " $ pdf_json_files  : chr  \"document_parses/pdf_json/d1aafb70c066a2068b02786f8929fd9c900897fb.json\" \"document_parses/pdf_json/6b0567729c2143a66d737eb0a2f63f2dce2e5a7d.json\" \"document_parses/pdf_json/06ced00a5fc04215949aa72528f2eeaae1d58927.json\" \"document_parses/pdf_json/348055649b6b8cf2b9a376498df9bf41f7123605.json\" ...\n",
      " $ pmc_json_files  : chr  \"document_parses/pmc_json/PMC35282.xml.json\" \"document_parses/pmc_json/PMC59543.xml.json\" \"document_parses/pmc_json/PMC59549.xml.json\" \"document_parses/pmc_json/PMC59574.xml.json\" ...\n",
      " $ url             : chr  \"https://www.ncbi.nlm.nih.gov/pmc/articles/PMC35282/\" \"https://www.ncbi.nlm.nih.gov/pmc/articles/PMC59543/\" \"https://www.ncbi.nlm.nih.gov/pmc/articles/PMC59549/\" \"https://www.ncbi.nlm.nih.gov/pmc/articles/PMC59574/\" ...\n",
      " $ s2_id           : int  NA NA NA NA NA NA NA NA NA NA ...\n"
     ]
    }
   ],
   "source": [
    "# Cargamos los datos del archivo \"metadata.csv\"\n",
    "# stringAsFactors evita que las cadenas de texto se conviertan en factores\n",
    "# na.strings indica qué consideramos valores nulos. En este caso celdas vacías y \"NA\"\n",
    "metadata_df <- read.csv(\"D:/COVID/metadata.csv\", stringsAsFactors = FALSE, na.strings = c(\"\", \"NA\"))\n",
    "\n",
    "# str() permite ver la estructura del archivo: número de filas, columnas y muestra el primero objeto almacenado\n",
    "str(metadata_df)\n"
   ]
  },
  {
   "cell_type": "markdown",
   "metadata": {},
   "source": [
    "FUNCIÓN PARA EXTRAER INFORMACIÓN"
   ]
  },
  {
   "cell_type": "code",
   "execution_count": 6,
   "metadata": {
    "scrolled": true
   },
   "outputs": [],
   "source": [
    "# Función de ayuda  para extraer información de JSON\n",
    "leer_json <- function(json){\n",
    "  # Obtenemos el identificador del texto\n",
    "  paper_id <- json$paper_id\n",
    "  # Obtenemos sus autores\n",
    "  authors <- json$metadata$authors\n",
    "  author_list <- list()\n",
    "  # Separamos cada autor\n",
    "  for (author in authors) {\n",
    "      name <- paste0(author$first,\" \", author$last, \";\")\n",
    "      author_list <- paste0(author_list, as.character(name))\n",
    "  }\n",
    "  # Obtenemos el título del artículo\n",
    "  title_text <- json$metadata$title\n",
    "  # Obtenemos todo el abstract o resumen\n",
    "  abstract_text <- ''\n",
    "  for (each_abstract in json$abstract) {\n",
    "      abstract_text <- paste(abstract_text, each_abstract$text)\n",
    "  }\n",
    "  # Obtenemos el cuerpo del artículo\n",
    "  body_text <- ''\n",
    "  for (each_body in json$body_text) {\n",
    "      body_text <- paste(body_text, each_body$text)\n",
    "  }\n",
    "\n",
    "  # Devolvemos el resultado en forma de Data Frame\n",
    "  return(tibble(paper_id, author_list, title_text, abstract_text, body_text))\n",
    "}"
   ]
  },
  {
   "cell_type": "markdown",
   "metadata": {},
   "source": [
    "DIRECTORIO DE LOS ARCHIVOS"
   ]
  },
  {
   "cell_type": "code",
   "execution_count": 4,
   "metadata": {},
   "outputs": [
    {
     "data": {
      "text/html": [
       "106137"
      ],
      "text/latex": [
       "106137"
      ],
      "text/markdown": [
       "106137"
      ],
      "text/plain": [
       "[1] 106137"
      ]
     },
     "metadata": {},
     "output_type": "display_data"
    }
   ],
   "source": [
    "# Identificamos la carpeta que contiene los JSON\n",
    "directorio <- 'D:/COVID/document_parses/pdf_json/'\n",
    "#Cogemos todos los archivos del directorio\n",
    "archivos <- list.files(directorio)\n",
    "# Mostramos el número de archivos\n",
    "length(archivos)"
   ]
  },
  {
   "cell_type": "markdown",
   "metadata": {},
   "source": [
    "PROCESAMIENTO DE LOS ARHIVOS (covid_df.csv)\n",
    "\n",
    "30 minutos"
   ]
  },
  {
   "cell_type": "code",
   "execution_count": 7,
   "metadata": {},
   "outputs": [
    {
     "name": "stdout",
     "output_type": "stream",
     "text": [
      "Artículos procesados:   10613  de  106137 \n",
      "Artículos procesados:   21226  de  106137 \n",
      "Artículos procesados:   31839  de  106137 \n",
      "Artículos procesados:   42452  de  106137 \n",
      "Artículos procesados:   53065  de  106137 \n",
      "Artículos procesados:   63678  de  106137 \n",
      "Artículos procesados:   74291  de  106137 \n",
      "Artículos procesados:   84904  de  106137 \n",
      "Artículos procesados:   95517  de  106137 \n",
      "Artículos procesados:   106130  de  106137 \n"
     ]
    }
   ],
   "source": [
    "# Inicializamos el contenido del artíuculo en formato lista\n",
    "articulos <- list()\n",
    "# Inicializamos el índice de artículos\n",
    "indice <- 0\n",
    "\n",
    "# Iteramos cada uno de los archivos\n",
    "for (archivo in archivos) {\n",
    "  # Actualizamos el puntero\n",
    "  indice <- indice + 1\n",
    "  # Breve comprobación para mostrar el estado de carga\n",
    "  if (indice %% (length(archivos) %/% 10) == 0) {\n",
    "    cat(\"Artículos procesados:  \", indice, \" de \", length(archivos), \"\\n\")\n",
    "  }\n",
    "  \n",
    "  # Modificamos el camino o PATH hacia el archivo actual\n",
    "  ruta_archivo <- paste0(directorio, '/', archivo)\n",
    "  # Convertimos el archivo JSON a objeto de R para poder tratarlo\n",
    "  json <- fromJSON(file = ruta_archivo)\n",
    "  # Aplicamos la función para extraer la informaciópn del archivo\n",
    "  contenido <- leer_json(json)\n",
    "  \n",
    "  # Comprobamos si el formato del archivo es el correcto\n",
    "  if(length(contenido$paper_id) > 0){\n",
    "    # Si se ha obtenido información del archivo\n",
    "    # Buscamos el artículo en el archivo \"metadata.csv\"\n",
    "    meta <- metadata_df[which(metadata_df$sha == contenido$paper_id), ] \n",
    "    # Si no hay información en metadata.csv o el cuerpo del artículo está vacío saltamos el artículo\n",
    "    if (length(meta) > 0 | length(contenido$body_text) <= 0) {\n",
    "      # Si no se encuentra autor en el JSON buscamos en metadata      \n",
    "      if (length(contenido$author_list) <= 0) {\n",
    "        authors <- metadata_df$authors\n",
    "        author_list <- list()\n",
    "        # Separamos cada autor\n",
    "        for (author in authors) {\n",
    "            name <- paste0(author$first,\" \", author$last, \";\")\n",
    "            author_list <- paste0(author_list, as.character(name))\n",
    "        }\n",
    "        # Sustituimos los autores\n",
    "        contenido$author_list <- author_list\n",
    "      }\n",
    "      \n",
    "      # Si no se encuentra el título en el JSON lo buscamos en metadata\n",
    "      if (contenido$title_text == '') {\n",
    "        contenido$title_text <- 'NoIncluido'\n",
    "      }\n",
    "      \n",
    "      # Si no se encuentra el abstract lo dejamos como 'No incluido'\n",
    "      if (nchar(contenido$abstract_text) <= 0) {\n",
    "        contenido$abstract_text <- 'NoIncluido'\n",
    "      }\n",
    "\n",
    "      # Añadimos la revista de publicación\n",
    "      if (length(meta$journal) > 0) {\n",
    "        contenido$journal <- meta$journal[1]\n",
    "      }\n",
    "      else {\n",
    "        contenido$journal <- 'NoIncluido'\n",
    "      }\n",
    "      # Añadimos el DOI\n",
    "      if (length(meta$doi) > 0) {\n",
    "        contenido$doi <- meta$doi[1]\n",
    "      }\n",
    "      else {\n",
    "        contenido$doi <- 'NoIncluido'\n",
    "      }\n",
    "   \n",
    "      # Incluimos el contenido al conjunto de artículos\n",
    "      articulos[[indice]] <- contenido\n",
    "    }\n",
    "  }\n",
    "}\n",
    "\n",
    "# Enlazamos todas las filas generadas en un único Data Frame\n",
    "covid_df <- bind_rows(articulos)"
   ]
  },
  {
   "cell_type": "code",
   "execution_count": 10,
   "metadata": {},
   "outputs": [
    {
     "data": {
      "text/html": [
       "<dl>\n",
       "\t<dt>$paper_id</dt>\n",
       "\t\t<dd>'0001418189999fea7f7cbe3e82703d71c85a6fe5'</dd>\n",
       "\t<dt>$author_list</dt>\n",
       "\t\t<dd>'E Cornelissen;H Dewerchin;E Hamme;H Nauwynck;'</dd>\n",
       "\t<dt>$title_text</dt>\n",
       "\t\t<dd>'Absence of surface expression of feline infectious peritonitis virus (FIPV) antigens on infected cells isolated from cats with FIP'</dd>\n",
       "\t<dt>$abstract_text</dt>\n",
       "\t\t<dd>' Feline infectious peritonitis virus (FIPV) positive cells are present in pyogranulomas and exudates from cats with FIP. These cells belong mainly to the monocyte/macrophage lineage. How these cells survive in immune cats is not known. In this study, FIPV positive cells were isolated from pyogranulomas and exudates of 12 naturally FIPV-infected cats and the presence of two immunologic targets, viral antigens and MHC I, on their surface was determined. The majority of the infected cells were confirmed to be cells from the monocyte/macrophage lineage. No surface expression of viral antigens was detected on FIPV positive cells. MHC I molecules were present on all the FIPV positive cells. After cultivation of the isolated infected cells, 52 AE 10% of the infected cells re-expressed viral antigens on the plasma membrane. In conclusion, it can be stated that in FIP cats, FIPV replicates in cells of the monocyte/macrophage lineage without carrying viral antigens in their plasma membrane, which could allow them to escape from antibody-dependent cell lysis. #'</dd>\n",
       "\t<dt>$all_text</dt>\n",
       "\t\t<dd><span style=white-space:pre-wrap>'Absence of surface expression of feline infectious peritonitis virus (FIPV) antigens on infected cells isolated from cats with FIP  Feline infectious peritonitis virus (FIPV) positive cells are present in pyogranulomas and exudates from cats with FIP. These cells belong mainly to the monocyte/macrophage lineage. How these cells survive in immune cats is not known. In this study, FIPV positive cells were isolated from pyogranulomas and exudates of 12 naturally FIPV-infected cats and the presence of two immunologic targets, viral antigens and MHC I, on their surface was determined. The majority of the infected cells were confirmed to be cells from the monocyte/macrophage lineage. No surface expression of viral antigens was detected on FIPV positive cells. MHC I molecules were present on all the FIPV positive cells. After cultivation of the isolated infected cells, 52 AE 10% of the infected cells re-expressed viral antigens on the plasma membrane. In conclusion, it can be stated that in FIP cats, FIPV replicates in cells of the monocyte/macrophage lineage without carrying viral antigens in their plasma membrane, which could allow them to escape from antibody-dependent cell lysis. #  Feline infectious peritonitis (FIP) is a fatal chronic disease in cats caused by a coronavirus, feline infectious peritonitis virus (FIPV), and characterized by granulomatous lesions formed at the serosae of different organs. Two forms can be distinguished. Cats suffering from the wet or effusive form have exudates in their body cavities. Exudate is absent in the second form, hence the name dry or non-effusive form. FIPV-infected cells are detected in the pyogranulomas and, based on morphology and the granulocyte/ monocyte/macrophage marker calprotectin, defined as macrophages (Weiss and Scott, 1981; Kipar et al., 1998) . Infected mononuclear cells were also isolated from exudates (Cammarata Parodi et al., 1993; Paltrinieri et al., 1999) . In one way or another, these infected cells succeed in staying alive and transmitting www.elsevier.com/locate/vetmic Veterinary Microbiology 121 (2007) [131] [132] [133] [134] [135] [136] [137] virus to new susceptible cells in the presence of a high concentration of antibodies. How they do this, is not known. Infected cells are normally eliminated by the adaptive immune system through antibody-mediated lysis or cell-mediated lysis. For the antibody-mediated lysis, the presence of antigens on the surface of infected cells is important for the recognition of these cells by antibodies and the subsequent destruction by the immune system (Sissons and Oldstone, 1980) . For pseudorabies virus (PRV) end equine herpesvirus-1 (EHV-1), it has been described that absence of antigens on the surface membrane of infected monocytes, due to antibody-induced internalization or lacking of expression, respectively, protects the infected cells from efficient complement-mediated lysis (van der Meulen et al., 2003 (van der Meulen et al., , 2006 Van de Walle et al., 2003) . In in vitro studies with FIPV 79-1146-infected feline monocytes, it was shown that viral antigens are expressed in the plasma membrane in 50% of the infected cells. In these cells, the surface expressed viral antigens are internalized after addition of antibodies, leaving the plasma membrane of the cell cleared from all visually detectable viral antigens (Dewerchin et al., 2005 (Dewerchin et al., , 2006 . Besides through antibody-mediated lysis, the adaptive immune system can eliminate virus-infected cells through cell-mediated immunity. Some of the newly synthesized viral proteins in infected cells are disintegrated by proteasomes, the peptides are coupled to major histocompatibility complex I (MHC I) and transported to the plasma membrane of the infected cell. This complex is recognized by cytotoxic T lymphocytes which kill the infected cell. Viruses have developed various ingenious ways to block the MHC I antigen presentation pathway (Hewitt, 2003) . For pseudorabies virus (PRV), it has been described that during antibody-induced internalization of viral glycoproteins in infected blood monocytes, the MHC I molecules are co-internalized . Absence of MHC I molecules allows PRV-infected cells to hide from the cell-mediated immunity (Favoreel, 1999) . Up till now, it is not known if FIPV affects the MHC I expression on the surface of FIPV-infected cells in FIP cats. In the present study, it was examined in infected monocytes/macrophages of FIP cats if viral antigens are expressed on the plasma membrane and if the expression of MHC I molecules was inhibited. Twelve cats strongly suspected of FIP by clinicians (based on cat profile, clinical signs and blood and/or exudate examination) were used in this study. The sex, age, breed, FCoV antibody titre and type of FIP (effusive or non-effusive) are listed in Table 1 .  Monospecific, polyclonal antibodies originating from cats infected with serotype II FIPV 79-1146 were kindly provided by Dr. Egberinck (Utrecht University, The Netherlands). Polyclonal antibodies against FIPV serotype I were isolated from a cat infected with a serotype I strain. Immunoblotting showed strong reaction with the spike protein of the serotype I strain Black. Both polyclonal antibodies against serotypes I and II were purified and biotinylated according to manufacturer\\'s instructions (Amersham Bioscience, Buckinghamshire, UK). A mixture of both biotinylated antibodies was used in the immunofluorescent stainings (biotinylated anti-FIPV Ab). It was confirmed that the mixture of biotinylated antibodies was able to stain surface expression of both serotype I as serotype II viruses. Feline polyclonal fluorescein-conjugated antibodies detecting both serotypes I and II (anti-FIPV-FITC Ab), a major histocompatibility complex I (MHC I) marker (CF298A) and a monocyte-macrophagegranulocyte marker (DH59B) were purchased from Veterinary Medical Research and Development (VMRD) (Pullman, Washington, USA). Cats were euthanized using 1 ml/1.5 kg Na-pentobarbital (Kela, Hoogstraten, Belgium) and exudates were collected and diluted 1:1 with phosphate-buffered saline (PBS) containing 15 U/ml heparin (Leo, Zaventem, Belgium). Cells present in the exudate were collected by centrifugation at 400 Â g for 10 min at 4 8C. Afterwards, tissues with pyogranulomas were collected. Small blocks containing almost just the pyogranulomas were immediately placed in RPMI-1640 at 37 8C (Gibco BRL, Merelbeke, Belgium). For isolation of individual cells the small blocks were mechanically separated using two needles. The cell suspension was then centrifuged at 400 Â g for 10 min at 4 8C. The obtained cell suspensions from the exudates and the tissues with pyogranulomas were each divided in three parts on which different stainings in suspension were performed. The cells from the pyogranulomas and the exudate of cat 2 were stained together. The first staining was performed to determine the viability and the monocyte/macrophage nature of the FIPV positive cells. Since the marker DH59B also detects granulocytes, besides macrophages and monocytes, the morphology of the nucleus was taken into account to determine whether the cells belonged to the monocyte/macrophage lineage. The second staining was performed to detect if viral antigens were present on the surface of FIPV positive cells. The third staining was performed to determine the presence of MHC I on the surface of FIPV positive cells and the effect on the viability of the cells. The latter staining was only performed for cats 6, 7, 8 and 9. The different staining steps and used antibodies and conjugates are given in Table 2 . After staining, cells were mounted on microscope slides using glycerin-PBS solution (0.9/0.1, v/v) with 2.5% 1,4-diazabicyclo(2,2,2)octane (Janssen Chimica, Beerse, Belgium) and analyzed by a Leica DM RBE fluorescence microscope (Leica Microsystems GmbH, Wetzlar, Germany). The isolated cells from cats 10, 11 and 12 were cultured in a 24-well plate on a glass coverslip for 0, 2, 4 and 6 h. At each time point, the immunofluorescence staining for detection of surface expressed viral antigens was performed (staining 2). After staining, the glass coverslips were mounted on microscope slides and analyzed by fluorescence microscopy. Results were analyzed with the Wilcoxon signed ranks test. Statistical analyses were performed with SPSS 11.0 (SPSS Inc., Chicago, Illinois, USA). FIPV positive cells were found in cell suspensions from exudates and pyogranulomas in all cats. The percentage of FIPV positive cells varied from &lt;1 to 10% (Table 3 ). The majority of the FIPV positive cells (95 AE 5%) belonged to the monocyte/macrophage lineage (mononuclear and DH59B positive) (Fig. 1 , lane A). Less than 1% of the FIPV positive cells showed a polymorphonuclear nucleus. Staining 2 revealed that no infected cells showed expression of viral antigens on their surface (Fig. 1,  lane B) . After cultivation of the FIPV positive cells, viral antigens were re-expressed on the plasma membrane as soon as 2 h post-seeding. Re-expression only occurred in 52 AE 10% of infected cells (Fig. 2) . The results of the MHC I staining (staining 3) in isolated cells of cats 6, 7, 8 and 9 showed that MHC I expression was present on 98 AE 3% of the FIPV positive cells (Fig. 1, of MHC I expression was observed between live and dead cells. The results of the viability staining (staining 1) are given in Table 3 . This staining showed that the percentage of dead FIPV positive monocytes in pyogranulomas was significantly higher than the control cells (FIPV negative, DH95B positive cells) ( p &lt; 0.1), whereas no difference was observed in exudates between FIPV positive monocytes and the control cells. In this study, it was shown that FIPV positive monocytes in cats with FIP express MHC I on their surface, but not viral antigens. The presence of viral antigens on the cell surface of infected cells is important for the recognition and elimination of infected cells by the immune system. Binding of virus-specific antibodies to viral proteins present on the surface, makes infected cells recognizable for the classical complement pathway, phagocytes and natural killer cells, which will lead to lysis of infected cells (Harper, 1994) . In this study, viral antigens were not detected on the surface of FIPV positive cells isolated from nine cats with FIP. This could implicate that the FIPV positive cells may remain \\'\\'invisible\\'\\' for the humoral immune system and continue the production of progeny virus without being eliminated. It is not known which mechanism lies behind the absence of surface expressed viral antigens. The results of the cultivation experiment demonstrated that about half of the infected cells are not capable of expressing viral antigens on their surface. This observation is consistent with the in vitro findings of Dewerchin et al. (2005) . They showed that 50% of FIPV 79-1146 infected monocytes do not express viral antigens on the plasma membrane. The absence of viral antigens on the surface of FIPV positive cells isolated from FIP cats that seem to be capable of expressing viral antigens, can be due to the fact that virus-specific antibodies bind to the antigens and as a consequence the viral antigens are internalized. Another possibility is antibody-induced capping of viral antigens and extrusion from the cell. Since the antibody-induced internalization has been described in in vitro infected monocytes that do show surface expressed viral antigens, it most likely occurs also in vivo (Dewerchin et al., 2006) . The fact that viral antigens could not be demonstrated with the used staining is not the result of antibodies present in the cat that already bound to these antigens and hinder binding of other antibodies. This hindering is not likely to occur since in FIPVinfected Crandell feline kidney cells, surface expressed FIPV antigens covered by strain specific antibodies were still accessible for other antibodies (data not shown). Besides antibody-mediated elimination of virusinfected cells, cytotoxic T lymphocytes (CTLs) are also capable of killing infected cells. During an infection, viral peptides are loaded on MHC I molecules and transported to the plasma membrane. This complex may be recognized by CTLs which leads to killing of the infected cell. In this study, the presence of MHC I on FIPV positive cells was analyzed. On all FIPV positive cells MHC I was present, showing that no internalization or retention of the MHC I molecules occurs. However, with the used techniques, it was not possible to quantify the number of MHC I molecules and to determine whether the MHC I molecules were loaded with FIPV peptides. With the exception of two cats, higher cell death in infected cells seems to be present in pyogranulomas. In exudates, this observation was not made. The cause of this difference between pyogranulomas and exudates is not clear. The increased cell death may be due to infection or to the response of the immune system on the infected cell. Since no viral antigens are present on the plasma membrane, it can be stated that antibody-mediated lysis is inhibited. The expression of MHC I is not inhibited in infected cells, indicating that the cellular immunity may still be able to lyse the infected cell, if viral peptides are presented. It is generally accepted that a strong cellular immunity enables the cat to overcome infection (Pedersen and Black, 1983; Hayashi et al., 1982; Weiss and Cox, 1989) . However, it has also been postulated that, during a chronic FIPV infection, the cell-mediated lysis is inhibited due to apoptosis and T-cell depletion caused by soluble mediators released during infection (Haagmans et al., 1996; de Groot-Mijnes et al., 2005) . Taking into account all these observations, it becomes clear that the outcome of a FIPV infection is a complicated interaction of the immune system and the virus. One thing is sure, the humoral immune response is not able to protect the cat against progression of viral replication and consequently of disease. The precise role of the cellular immune response in protection needs to be further investigated. In conclusion, it can be stated that cytoplasmic FIPV-infected cells do not show surface expressed viral antigens in vivo which may make them invisible for the humoral immune response. In contrast, MHC I molecules are abundantly present on their surface.'</span></dd>\n",
       "\t<dt>$journal</dt>\n",
       "\t\t<dd>'Veterinary Microbiology'</dd>\n",
       "\t<dt>$doi</dt>\n",
       "\t\t<dd>'10.1016/j.vetmic.2006.11.026'</dd>\n",
       "</dl>\n"
      ],
      "text/latex": [
       "\\begin{description}\n",
       "\\item[\\$paper\\_id] '0001418189999fea7f7cbe3e82703d71c85a6fe5'\n",
       "\\item[\\$author\\_list] 'E Cornelissen;H Dewerchin;E Hamme;H Nauwynck;'\n",
       "\\item[\\$title\\_text] 'Absence of surface expression of feline infectious peritonitis virus (FIPV) antigens on infected cells isolated from cats with FIP'\n",
       "\\item[\\$abstract\\_text] ' Feline infectious peritonitis virus (FIPV) positive cells are present in pyogranulomas and exudates from cats with FIP. These cells belong mainly to the monocyte/macrophage lineage. How these cells survive in immune cats is not known. In this study, FIPV positive cells were isolated from pyogranulomas and exudates of 12 naturally FIPV-infected cats and the presence of two immunologic targets, viral antigens and MHC I, on their surface was determined. The majority of the infected cells were confirmed to be cells from the monocyte/macrophage lineage. No surface expression of viral antigens was detected on FIPV positive cells. MHC I molecules were present on all the FIPV positive cells. After cultivation of the isolated infected cells, 52 AE 10\\% of the infected cells re-expressed viral antigens on the plasma membrane. In conclusion, it can be stated that in FIP cats, FIPV replicates in cells of the monocyte/macrophage lineage without carrying viral antigens in their plasma membrane, which could allow them to escape from antibody-dependent cell lysis. \\#'\n",
       "\\item[\\$all\\_text] 'Absence of surface expression of feline infectious peritonitis virus (FIPV) antigens on infected cells isolated from cats with FIP  Feline infectious peritonitis virus (FIPV) positive cells are present in pyogranulomas and exudates from cats with FIP. These cells belong mainly to the monocyte/macrophage lineage. How these cells survive in immune cats is not known. In this study, FIPV positive cells were isolated from pyogranulomas and exudates of 12 naturally FIPV-infected cats and the presence of two immunologic targets, viral antigens and MHC I, on their surface was determined. The majority of the infected cells were confirmed to be cells from the monocyte/macrophage lineage. No surface expression of viral antigens was detected on FIPV positive cells. MHC I molecules were present on all the FIPV positive cells. After cultivation of the isolated infected cells, 52 AE 10\\% of the infected cells re-expressed viral antigens on the plasma membrane. In conclusion, it can be stated that in FIP cats, FIPV replicates in cells of the monocyte/macrophage lineage without carrying viral antigens in their plasma membrane, which could allow them to escape from antibody-dependent cell lysis. \\#  Feline infectious peritonitis (FIP) is a fatal chronic disease in cats caused by a coronavirus, feline infectious peritonitis virus (FIPV), and characterized by granulomatous lesions formed at the serosae of different organs. Two forms can be distinguished. Cats suffering from the wet or effusive form have exudates in their body cavities. Exudate is absent in the second form, hence the name dry or non-effusive form. FIPV-infected cells are detected in the pyogranulomas and, based on morphology and the granulocyte/ monocyte/macrophage marker calprotectin, defined as macrophages (Weiss and Scott, 1981; Kipar et al., 1998) . Infected mononuclear cells were also isolated from exudates (Cammarata Parodi et al., 1993; Paltrinieri et al., 1999) . In one way or another, these infected cells succeed in staying alive and transmitting www.elsevier.com/locate/vetmic Veterinary Microbiology 121 (2007) {[}131{]} {[}132{]} {[}133{]} {[}134{]} {[}135{]} {[}136{]} {[}137{]} virus to new susceptible cells in the presence of a high concentration of antibodies. How they do this, is not known. Infected cells are normally eliminated by the adaptive immune system through antibody-mediated lysis or cell-mediated lysis. For the antibody-mediated lysis, the presence of antigens on the surface of infected cells is important for the recognition of these cells by antibodies and the subsequent destruction by the immune system (Sissons and Oldstone, 1980) . For pseudorabies virus (PRV) end equine herpesvirus-1 (EHV-1), it has been described that absence of antigens on the surface membrane of infected monocytes, due to antibody-induced internalization or lacking of expression, respectively, protects the infected cells from efficient complement-mediated lysis (van der Meulen et al., 2003 (van der Meulen et al., , 2006 Van de Walle et al., 2003) . In in vitro studies with FIPV 79-1146-infected feline monocytes, it was shown that viral antigens are expressed in the plasma membrane in 50\\% of the infected cells. In these cells, the surface expressed viral antigens are internalized after addition of antibodies, leaving the plasma membrane of the cell cleared from all visually detectable viral antigens (Dewerchin et al., 2005 (Dewerchin et al., , 2006 . Besides through antibody-mediated lysis, the adaptive immune system can eliminate virus-infected cells through cell-mediated immunity. Some of the newly synthesized viral proteins in infected cells are disintegrated by proteasomes, the peptides are coupled to major histocompatibility complex I (MHC I) and transported to the plasma membrane of the infected cell. This complex is recognized by cytotoxic T lymphocytes which kill the infected cell. Viruses have developed various ingenious ways to block the MHC I antigen presentation pathway (Hewitt, 2003) . For pseudorabies virus (PRV), it has been described that during antibody-induced internalization of viral glycoproteins in infected blood monocytes, the MHC I molecules are co-internalized . Absence of MHC I molecules allows PRV-infected cells to hide from the cell-mediated immunity (Favoreel, 1999) . Up till now, it is not known if FIPV affects the MHC I expression on the surface of FIPV-infected cells in FIP cats. In the present study, it was examined in infected monocytes/macrophages of FIP cats if viral antigens are expressed on the plasma membrane and if the expression of MHC I molecules was inhibited. Twelve cats strongly suspected of FIP by clinicians (based on cat profile, clinical signs and blood and/or exudate examination) were used in this study. The sex, age, breed, FCoV antibody titre and type of FIP (effusive or non-effusive) are listed in Table 1 .  Monospecific, polyclonal antibodies originating from cats infected with serotype II FIPV 79-1146 were kindly provided by Dr. Egberinck (Utrecht University, The Netherlands). Polyclonal antibodies against FIPV serotype I were isolated from a cat infected with a serotype I strain. Immunoblotting showed strong reaction with the spike protein of the serotype I strain Black. Both polyclonal antibodies against serotypes I and II were purified and biotinylated according to manufacturer\\textbackslash{}'s instructions (Amersham Bioscience, Buckinghamshire, UK). A mixture of both biotinylated antibodies was used in the immunofluorescent stainings (biotinylated anti-FIPV Ab). It was confirmed that the mixture of biotinylated antibodies was able to stain surface expression of both serotype I as serotype II viruses. Feline polyclonal fluorescein-conjugated antibodies detecting both serotypes I and II (anti-FIPV-FITC Ab), a major histocompatibility complex I (MHC I) marker (CF298A) and a monocyte-macrophagegranulocyte marker (DH59B) were purchased from Veterinary Medical Research and Development (VMRD) (Pullman, Washington, USA). Cats were euthanized using 1 ml/1.5 kg Na-pentobarbital (Kela, Hoogstraten, Belgium) and exudates were collected and diluted 1:1 with phosphate-buffered saline (PBS) containing 15 U/ml heparin (Leo, Zaventem, Belgium). Cells present in the exudate were collected by centrifugation at 400 Â g for 10 min at 4 8C. Afterwards, tissues with pyogranulomas were collected. Small blocks containing almost just the pyogranulomas were immediately placed in RPMI-1640 at 37 8C (Gibco BRL, Merelbeke, Belgium). For isolation of individual cells the small blocks were mechanically separated using two needles. The cell suspension was then centrifuged at 400 Â g for 10 min at 4 8C. The obtained cell suspensions from the exudates and the tissues with pyogranulomas were each divided in three parts on which different stainings in suspension were performed. The cells from the pyogranulomas and the exudate of cat 2 were stained together. The first staining was performed to determine the viability and the monocyte/macrophage nature of the FIPV positive cells. Since the marker DH59B also detects granulocytes, besides macrophages and monocytes, the morphology of the nucleus was taken into account to determine whether the cells belonged to the monocyte/macrophage lineage. The second staining was performed to detect if viral antigens were present on the surface of FIPV positive cells. The third staining was performed to determine the presence of MHC I on the surface of FIPV positive cells and the effect on the viability of the cells. The latter staining was only performed for cats 6, 7, 8 and 9. The different staining steps and used antibodies and conjugates are given in Table 2 . After staining, cells were mounted on microscope slides using glycerin-PBS solution (0.9/0.1, v/v) with 2.5\\% 1,4-diazabicyclo(2,2,2)octane (Janssen Chimica, Beerse, Belgium) and analyzed by a Leica DM RBE fluorescence microscope (Leica Microsystems GmbH, Wetzlar, Germany). The isolated cells from cats 10, 11 and 12 were cultured in a 24-well plate on a glass coverslip for 0, 2, 4 and 6 h. At each time point, the immunofluorescence staining for detection of surface expressed viral antigens was performed (staining 2). After staining, the glass coverslips were mounted on microscope slides and analyzed by fluorescence microscopy. Results were analyzed with the Wilcoxon signed ranks test. Statistical analyses were performed with SPSS 11.0 (SPSS Inc., Chicago, Illinois, USA). FIPV positive cells were found in cell suspensions from exudates and pyogranulomas in all cats. The percentage of FIPV positive cells varied from <1 to 10\\% (Table 3 ). The majority of the FIPV positive cells (95 AE 5\\%) belonged to the monocyte/macrophage lineage (mononuclear and DH59B positive) (Fig. 1 , lane A). Less than 1\\% of the FIPV positive cells showed a polymorphonuclear nucleus. Staining 2 revealed that no infected cells showed expression of viral antigens on their surface (Fig. 1,  lane B) . After cultivation of the FIPV positive cells, viral antigens were re-expressed on the plasma membrane as soon as 2 h post-seeding. Re-expression only occurred in 52 AE 10\\% of infected cells (Fig. 2) . The results of the MHC I staining (staining 3) in isolated cells of cats 6, 7, 8 and 9 showed that MHC I expression was present on 98 AE 3\\% of the FIPV positive cells (Fig. 1, of MHC I expression was observed between live and dead cells. The results of the viability staining (staining 1) are given in Table 3 . This staining showed that the percentage of dead FIPV positive monocytes in pyogranulomas was significantly higher than the control cells (FIPV negative, DH95B positive cells) ( p < 0.1), whereas no difference was observed in exudates between FIPV positive monocytes and the control cells. In this study, it was shown that FIPV positive monocytes in cats with FIP express MHC I on their surface, but not viral antigens. The presence of viral antigens on the cell surface of infected cells is important for the recognition and elimination of infected cells by the immune system. Binding of virus-specific antibodies to viral proteins present on the surface, makes infected cells recognizable for the classical complement pathway, phagocytes and natural killer cells, which will lead to lysis of infected cells (Harper, 1994) . In this study, viral antigens were not detected on the surface of FIPV positive cells isolated from nine cats with FIP. This could implicate that the FIPV positive cells may remain \\textbackslash{}'\\textbackslash{}'invisible\\textbackslash{}'\\textbackslash{}' for the humoral immune system and continue the production of progeny virus without being eliminated. It is not known which mechanism lies behind the absence of surface expressed viral antigens. The results of the cultivation experiment demonstrated that about half of the infected cells are not capable of expressing viral antigens on their surface. This observation is consistent with the in vitro findings of Dewerchin et al. (2005) . They showed that 50\\% of FIPV 79-1146 infected monocytes do not express viral antigens on the plasma membrane. The absence of viral antigens on the surface of FIPV positive cells isolated from FIP cats that seem to be capable of expressing viral antigens, can be due to the fact that virus-specific antibodies bind to the antigens and as a consequence the viral antigens are internalized. Another possibility is antibody-induced capping of viral antigens and extrusion from the cell. Since the antibody-induced internalization has been described in in vitro infected monocytes that do show surface expressed viral antigens, it most likely occurs also in vivo (Dewerchin et al., 2006) . The fact that viral antigens could not be demonstrated with the used staining is not the result of antibodies present in the cat that already bound to these antigens and hinder binding of other antibodies. This hindering is not likely to occur since in FIPVinfected Crandell feline kidney cells, surface expressed FIPV antigens covered by strain specific antibodies were still accessible for other antibodies (data not shown). Besides antibody-mediated elimination of virusinfected cells, cytotoxic T lymphocytes (CTLs) are also capable of killing infected cells. During an infection, viral peptides are loaded on MHC I molecules and transported to the plasma membrane. This complex may be recognized by CTLs which leads to killing of the infected cell. In this study, the presence of MHC I on FIPV positive cells was analyzed. On all FIPV positive cells MHC I was present, showing that no internalization or retention of the MHC I molecules occurs. However, with the used techniques, it was not possible to quantify the number of MHC I molecules and to determine whether the MHC I molecules were loaded with FIPV peptides. With the exception of two cats, higher cell death in infected cells seems to be present in pyogranulomas. In exudates, this observation was not made. The cause of this difference between pyogranulomas and exudates is not clear. The increased cell death may be due to infection or to the response of the immune system on the infected cell. Since no viral antigens are present on the plasma membrane, it can be stated that antibody-mediated lysis is inhibited. The expression of MHC I is not inhibited in infected cells, indicating that the cellular immunity may still be able to lyse the infected cell, if viral peptides are presented. It is generally accepted that a strong cellular immunity enables the cat to overcome infection (Pedersen and Black, 1983; Hayashi et al., 1982; Weiss and Cox, 1989) . However, it has also been postulated that, during a chronic FIPV infection, the cell-mediated lysis is inhibited due to apoptosis and T-cell depletion caused by soluble mediators released during infection (Haagmans et al., 1996; de Groot-Mijnes et al., 2005) . Taking into account all these observations, it becomes clear that the outcome of a FIPV infection is a complicated interaction of the immune system and the virus. One thing is sure, the humoral immune response is not able to protect the cat against progression of viral replication and consequently of disease. The precise role of the cellular immune response in protection needs to be further investigated. In conclusion, it can be stated that cytoplasmic FIPV-infected cells do not show surface expressed viral antigens in vivo which may make them invisible for the humoral immune response. In contrast, MHC I molecules are abundantly present on their surface.'\n",
       "\\item[\\$journal] 'Veterinary Microbiology'\n",
       "\\item[\\$doi] '10.1016/j.vetmic.2006.11.026'\n",
       "\\end{description}\n"
      ],
      "text/markdown": [
       "$paper_id\n",
       ":   '0001418189999fea7f7cbe3e82703d71c85a6fe5'\n",
       "$author_list\n",
       ":   'E Cornelissen;H Dewerchin;E Hamme;H Nauwynck;'\n",
       "$title_text\n",
       ":   'Absence of surface expression of feline infectious peritonitis virus (FIPV) antigens on infected cells isolated from cats with FIP'\n",
       "$abstract_text\n",
       ":   ' Feline infectious peritonitis virus (FIPV) positive cells are present in pyogranulomas and exudates from cats with FIP. These cells belong mainly to the monocyte/macrophage lineage. How these cells survive in immune cats is not known. In this study, FIPV positive cells were isolated from pyogranulomas and exudates of 12 naturally FIPV-infected cats and the presence of two immunologic targets, viral antigens and MHC I, on their surface was determined. The majority of the infected cells were confirmed to be cells from the monocyte/macrophage lineage. No surface expression of viral antigens was detected on FIPV positive cells. MHC I molecules were present on all the FIPV positive cells. After cultivation of the isolated infected cells, 52 AE 10% of the infected cells re-expressed viral antigens on the plasma membrane. In conclusion, it can be stated that in FIP cats, FIPV replicates in cells of the monocyte/macrophage lineage without carrying viral antigens in their plasma membrane, which could allow them to escape from antibody-dependent cell lysis. #'\n",
       "$all_text\n",
       ":   <span style=white-space:pre-wrap>'Absence of surface expression of feline infectious peritonitis virus (FIPV) antigens on infected cells isolated from cats with FIP  Feline infectious peritonitis virus (FIPV) positive cells are present in pyogranulomas and exudates from cats with FIP. These cells belong mainly to the monocyte/macrophage lineage. How these cells survive in immune cats is not known. In this study, FIPV positive cells were isolated from pyogranulomas and exudates of 12 naturally FIPV-infected cats and the presence of two immunologic targets, viral antigens and MHC I, on their surface was determined. The majority of the infected cells were confirmed to be cells from the monocyte/macrophage lineage. No surface expression of viral antigens was detected on FIPV positive cells. MHC I molecules were present on all the FIPV positive cells. After cultivation of the isolated infected cells, 52 AE 10% of the infected cells re-expressed viral antigens on the plasma membrane. In conclusion, it can be stated that in FIP cats, FIPV replicates in cells of the monocyte/macrophage lineage without carrying viral antigens in their plasma membrane, which could allow them to escape from antibody-dependent cell lysis. #  Feline infectious peritonitis (FIP) is a fatal chronic disease in cats caused by a coronavirus, feline infectious peritonitis virus (FIPV), and characterized by granulomatous lesions formed at the serosae of different organs. Two forms can be distinguished. Cats suffering from the wet or effusive form have exudates in their body cavities. Exudate is absent in the second form, hence the name dry or non-effusive form. FIPV-infected cells are detected in the pyogranulomas and, based on morphology and the granulocyte/ monocyte/macrophage marker calprotectin, defined as macrophages (Weiss and Scott, 1981; Kipar et al., 1998) . Infected mononuclear cells were also isolated from exudates (Cammarata Parodi et al., 1993; Paltrinieri et al., 1999) . In one way or another, these infected cells succeed in staying alive and transmitting www.elsevier.com/locate/vetmic Veterinary Microbiology 121 (2007) [131] [132] [133] [134] [135] [136] [137] virus to new susceptible cells in the presence of a high concentration of antibodies. How they do this, is not known. Infected cells are normally eliminated by the adaptive immune system through antibody-mediated lysis or cell-mediated lysis. For the antibody-mediated lysis, the presence of antigens on the surface of infected cells is important for the recognition of these cells by antibodies and the subsequent destruction by the immune system (Sissons and Oldstone, 1980) . For pseudorabies virus (PRV) end equine herpesvirus-1 (EHV-1), it has been described that absence of antigens on the surface membrane of infected monocytes, due to antibody-induced internalization or lacking of expression, respectively, protects the infected cells from efficient complement-mediated lysis (van der Meulen et al., 2003 (van der Meulen et al., , 2006 Van de Walle et al., 2003) . In in vitro studies with FIPV 79-1146-infected feline monocytes, it was shown that viral antigens are expressed in the plasma membrane in 50% of the infected cells. In these cells, the surface expressed viral antigens are internalized after addition of antibodies, leaving the plasma membrane of the cell cleared from all visually detectable viral antigens (Dewerchin et al., 2005 (Dewerchin et al., , 2006 . Besides through antibody-mediated lysis, the adaptive immune system can eliminate virus-infected cells through cell-mediated immunity. Some of the newly synthesized viral proteins in infected cells are disintegrated by proteasomes, the peptides are coupled to major histocompatibility complex I (MHC I) and transported to the plasma membrane of the infected cell. This complex is recognized by cytotoxic T lymphocytes which kill the infected cell. Viruses have developed various ingenious ways to block the MHC I antigen presentation pathway (Hewitt, 2003) . For pseudorabies virus (PRV), it has been described that during antibody-induced internalization of viral glycoproteins in infected blood monocytes, the MHC I molecules are co-internalized . Absence of MHC I molecules allows PRV-infected cells to hide from the cell-mediated immunity (Favoreel, 1999) . Up till now, it is not known if FIPV affects the MHC I expression on the surface of FIPV-infected cells in FIP cats. In the present study, it was examined in infected monocytes/macrophages of FIP cats if viral antigens are expressed on the plasma membrane and if the expression of MHC I molecules was inhibited. Twelve cats strongly suspected of FIP by clinicians (based on cat profile, clinical signs and blood and/or exudate examination) were used in this study. The sex, age, breed, FCoV antibody titre and type of FIP (effusive or non-effusive) are listed in Table 1 .  Monospecific, polyclonal antibodies originating from cats infected with serotype II FIPV 79-1146 were kindly provided by Dr. Egberinck (Utrecht University, The Netherlands). Polyclonal antibodies against FIPV serotype I were isolated from a cat infected with a serotype I strain. Immunoblotting showed strong reaction with the spike protein of the serotype I strain Black. Both polyclonal antibodies against serotypes I and II were purified and biotinylated according to manufacturer\\'s instructions (Amersham Bioscience, Buckinghamshire, UK). A mixture of both biotinylated antibodies was used in the immunofluorescent stainings (biotinylated anti-FIPV Ab). It was confirmed that the mixture of biotinylated antibodies was able to stain surface expression of both serotype I as serotype II viruses. Feline polyclonal fluorescein-conjugated antibodies detecting both serotypes I and II (anti-FIPV-FITC Ab), a major histocompatibility complex I (MHC I) marker (CF298A) and a monocyte-macrophagegranulocyte marker (DH59B) were purchased from Veterinary Medical Research and Development (VMRD) (Pullman, Washington, USA). Cats were euthanized using 1 ml/1.5 kg Na-pentobarbital (Kela, Hoogstraten, Belgium) and exudates were collected and diluted 1:1 with phosphate-buffered saline (PBS) containing 15 U/ml heparin (Leo, Zaventem, Belgium). Cells present in the exudate were collected by centrifugation at 400 Â g for 10 min at 4 8C. Afterwards, tissues with pyogranulomas were collected. Small blocks containing almost just the pyogranulomas were immediately placed in RPMI-1640 at 37 8C (Gibco BRL, Merelbeke, Belgium). For isolation of individual cells the small blocks were mechanically separated using two needles. The cell suspension was then centrifuged at 400 Â g for 10 min at 4 8C. The obtained cell suspensions from the exudates and the tissues with pyogranulomas were each divided in three parts on which different stainings in suspension were performed. The cells from the pyogranulomas and the exudate of cat 2 were stained together. The first staining was performed to determine the viability and the monocyte/macrophage nature of the FIPV positive cells. Since the marker DH59B also detects granulocytes, besides macrophages and monocytes, the morphology of the nucleus was taken into account to determine whether the cells belonged to the monocyte/macrophage lineage. The second staining was performed to detect if viral antigens were present on the surface of FIPV positive cells. The third staining was performed to determine the presence of MHC I on the surface of FIPV positive cells and the effect on the viability of the cells. The latter staining was only performed for cats 6, 7, 8 and 9. The different staining steps and used antibodies and conjugates are given in Table 2 . After staining, cells were mounted on microscope slides using glycerin-PBS solution (0.9/0.1, v/v) with 2.5% 1,4-diazabicyclo(2,2,2)octane (Janssen Chimica, Beerse, Belgium) and analyzed by a Leica DM RBE fluorescence microscope (Leica Microsystems GmbH, Wetzlar, Germany). The isolated cells from cats 10, 11 and 12 were cultured in a 24-well plate on a glass coverslip for 0, 2, 4 and 6 h. At each time point, the immunofluorescence staining for detection of surface expressed viral antigens was performed (staining 2). After staining, the glass coverslips were mounted on microscope slides and analyzed by fluorescence microscopy. Results were analyzed with the Wilcoxon signed ranks test. Statistical analyses were performed with SPSS 11.0 (SPSS Inc., Chicago, Illinois, USA). FIPV positive cells were found in cell suspensions from exudates and pyogranulomas in all cats. The percentage of FIPV positive cells varied from &lt;1 to 10% (Table 3 ). The majority of the FIPV positive cells (95 AE 5%) belonged to the monocyte/macrophage lineage (mononuclear and DH59B positive) (Fig. 1 , lane A). Less than 1% of the FIPV positive cells showed a polymorphonuclear nucleus. Staining 2 revealed that no infected cells showed expression of viral antigens on their surface (Fig. 1,  lane B) . After cultivation of the FIPV positive cells, viral antigens were re-expressed on the plasma membrane as soon as 2 h post-seeding. Re-expression only occurred in 52 AE 10% of infected cells (Fig. 2) . The results of the MHC I staining (staining 3) in isolated cells of cats 6, 7, 8 and 9 showed that MHC I expression was present on 98 AE 3% of the FIPV positive cells (Fig. 1, of MHC I expression was observed between live and dead cells. The results of the viability staining (staining 1) are given in Table 3 . This staining showed that the percentage of dead FIPV positive monocytes in pyogranulomas was significantly higher than the control cells (FIPV negative, DH95B positive cells) ( p &lt; 0.1), whereas no difference was observed in exudates between FIPV positive monocytes and the control cells. In this study, it was shown that FIPV positive monocytes in cats with FIP express MHC I on their surface, but not viral antigens. The presence of viral antigens on the cell surface of infected cells is important for the recognition and elimination of infected cells by the immune system. Binding of virus-specific antibodies to viral proteins present on the surface, makes infected cells recognizable for the classical complement pathway, phagocytes and natural killer cells, which will lead to lysis of infected cells (Harper, 1994) . In this study, viral antigens were not detected on the surface of FIPV positive cells isolated from nine cats with FIP. This could implicate that the FIPV positive cells may remain \\'\\'invisible\\'\\' for the humoral immune system and continue the production of progeny virus without being eliminated. It is not known which mechanism lies behind the absence of surface expressed viral antigens. The results of the cultivation experiment demonstrated that about half of the infected cells are not capable of expressing viral antigens on their surface. This observation is consistent with the in vitro findings of Dewerchin et al. (2005) . They showed that 50% of FIPV 79-1146 infected monocytes do not express viral antigens on the plasma membrane. The absence of viral antigens on the surface of FIPV positive cells isolated from FIP cats that seem to be capable of expressing viral antigens, can be due to the fact that virus-specific antibodies bind to the antigens and as a consequence the viral antigens are internalized. Another possibility is antibody-induced capping of viral antigens and extrusion from the cell. Since the antibody-induced internalization has been described in in vitro infected monocytes that do show surface expressed viral antigens, it most likely occurs also in vivo (Dewerchin et al., 2006) . The fact that viral antigens could not be demonstrated with the used staining is not the result of antibodies present in the cat that already bound to these antigens and hinder binding of other antibodies. This hindering is not likely to occur since in FIPVinfected Crandell feline kidney cells, surface expressed FIPV antigens covered by strain specific antibodies were still accessible for other antibodies (data not shown). Besides antibody-mediated elimination of virusinfected cells, cytotoxic T lymphocytes (CTLs) are also capable of killing infected cells. During an infection, viral peptides are loaded on MHC I molecules and transported to the plasma membrane. This complex may be recognized by CTLs which leads to killing of the infected cell. In this study, the presence of MHC I on FIPV positive cells was analyzed. On all FIPV positive cells MHC I was present, showing that no internalization or retention of the MHC I molecules occurs. However, with the used techniques, it was not possible to quantify the number of MHC I molecules and to determine whether the MHC I molecules were loaded with FIPV peptides. With the exception of two cats, higher cell death in infected cells seems to be present in pyogranulomas. In exudates, this observation was not made. The cause of this difference between pyogranulomas and exudates is not clear. The increased cell death may be due to infection or to the response of the immune system on the infected cell. Since no viral antigens are present on the plasma membrane, it can be stated that antibody-mediated lysis is inhibited. The expression of MHC I is not inhibited in infected cells, indicating that the cellular immunity may still be able to lyse the infected cell, if viral peptides are presented. It is generally accepted that a strong cellular immunity enables the cat to overcome infection (Pedersen and Black, 1983; Hayashi et al., 1982; Weiss and Cox, 1989) . However, it has also been postulated that, during a chronic FIPV infection, the cell-mediated lysis is inhibited due to apoptosis and T-cell depletion caused by soluble mediators released during infection (Haagmans et al., 1996; de Groot-Mijnes et al., 2005) . Taking into account all these observations, it becomes clear that the outcome of a FIPV infection is a complicated interaction of the immune system and the virus. One thing is sure, the humoral immune response is not able to protect the cat against progression of viral replication and consequently of disease. The precise role of the cellular immune response in protection needs to be further investigated. In conclusion, it can be stated that cytoplasmic FIPV-infected cells do not show surface expressed viral antigens in vivo which may make them invisible for the humoral immune response. In contrast, MHC I molecules are abundantly present on their surface.'</span>\n",
       "$journal\n",
       ":   'Veterinary Microbiology'\n",
       "$doi\n",
       ":   '10.1016/j.vetmic.2006.11.026'\n",
       "\n",
       "\n"
      ],
      "text/plain": [
       "$paper_id\n",
       "[1] \"0001418189999fea7f7cbe3e82703d71c85a6fe5\"\n",
       "\n",
       "$author_list\n",
       "[1] \"E Cornelissen;H Dewerchin;E Hamme;H Nauwynck;\"\n",
       "\n",
       "$title_text\n",
       "[1] \"Absence of surface expression of feline infectious peritonitis virus (FIPV) antigens on infected cells isolated from cats with FIP\"\n",
       "\n",
       "$abstract_text\n",
       "[1] \" Feline infectious peritonitis virus (FIPV) positive cells are present in pyogranulomas and exudates from cats with FIP. These cells belong mainly to the monocyte/macrophage lineage. How these cells survive in immune cats is not known. In this study, FIPV positive cells were isolated from pyogranulomas and exudates of 12 naturally FIPV-infected cats and the presence of two immunologic targets, viral antigens and MHC I, on their surface was determined. The majority of the infected cells were confirmed to be cells from the monocyte/macrophage lineage. No surface expression of viral antigens was detected on FIPV positive cells. MHC I molecules were present on all the FIPV positive cells. After cultivation of the isolated infected cells, 52 AE 10% of the infected cells re-expressed viral antigens on the plasma membrane. In conclusion, it can be stated that in FIP cats, FIPV replicates in cells of the monocyte/macrophage lineage without carrying viral antigens in their plasma membrane, which could allow them to escape from antibody-dependent cell lysis. #\"\n",
       "\n",
       "$all_text\n",
       "[1] \"Absence of surface expression of feline infectious peritonitis virus (FIPV) antigens on infected cells isolated from cats with FIP  Feline infectious peritonitis virus (FIPV) positive cells are present in pyogranulomas and exudates from cats with FIP. These cells belong mainly to the monocyte/macrophage lineage. How these cells survive in immune cats is not known. In this study, FIPV positive cells were isolated from pyogranulomas and exudates of 12 naturally FIPV-infected cats and the presence of two immunologic targets, viral antigens and MHC I, on their surface was determined. The majority of the infected cells were confirmed to be cells from the monocyte/macrophage lineage. No surface expression of viral antigens was detected on FIPV positive cells. MHC I molecules were present on all the FIPV positive cells. After cultivation of the isolated infected cells, 52 AE 10% of the infected cells re-expressed viral antigens on the plasma membrane. In conclusion, it can be stated that in FIP cats, FIPV replicates in cells of the monocyte/macrophage lineage without carrying viral antigens in their plasma membrane, which could allow them to escape from antibody-dependent cell lysis. #  Feline infectious peritonitis (FIP) is a fatal chronic disease in cats caused by a coronavirus, feline infectious peritonitis virus (FIPV), and characterized by granulomatous lesions formed at the serosae of different organs. Two forms can be distinguished. Cats suffering from the wet or effusive form have exudates in their body cavities. Exudate is absent in the second form, hence the name dry or non-effusive form. FIPV-infected cells are detected in the pyogranulomas and, based on morphology and the granulocyte/ monocyte/macrophage marker calprotectin, defined as macrophages (Weiss and Scott, 1981; Kipar et al., 1998) . Infected mononuclear cells were also isolated from exudates (Cammarata Parodi et al., 1993; Paltrinieri et al., 1999) . In one way or another, these infected cells succeed in staying alive and transmitting www.elsevier.com/locate/vetmic Veterinary Microbiology 121 (2007) [131] [132] [133] [134] [135] [136] [137] virus to new susceptible cells in the presence of a high concentration of antibodies. How they do this, is not known. Infected cells are normally eliminated by the adaptive immune system through antibody-mediated lysis or cell-mediated lysis. For the antibody-mediated lysis, the presence of antigens on the surface of infected cells is important for the recognition of these cells by antibodies and the subsequent destruction by the immune system (Sissons and Oldstone, 1980) . For pseudorabies virus (PRV) end equine herpesvirus-1 (EHV-1), it has been described that absence of antigens on the surface membrane of infected monocytes, due to antibody-induced internalization or lacking of expression, respectively, protects the infected cells from efficient complement-mediated lysis (van der Meulen et al., 2003 (van der Meulen et al., , 2006 Van de Walle et al., 2003) . In in vitro studies with FIPV 79-1146-infected feline monocytes, it was shown that viral antigens are expressed in the plasma membrane in 50% of the infected cells. In these cells, the surface expressed viral antigens are internalized after addition of antibodies, leaving the plasma membrane of the cell cleared from all visually detectable viral antigens (Dewerchin et al., 2005 (Dewerchin et al., , 2006 . Besides through antibody-mediated lysis, the adaptive immune system can eliminate virus-infected cells through cell-mediated immunity. Some of the newly synthesized viral proteins in infected cells are disintegrated by proteasomes, the peptides are coupled to major histocompatibility complex I (MHC I) and transported to the plasma membrane of the infected cell. This complex is recognized by cytotoxic T lymphocytes which kill the infected cell. Viruses have developed various ingenious ways to block the MHC I antigen presentation pathway (Hewitt, 2003) . For pseudorabies virus (PRV), it has been described that during antibody-induced internalization of viral glycoproteins in infected blood monocytes, the MHC I molecules are co-internalized . Absence of MHC I molecules allows PRV-infected cells to hide from the cell-mediated immunity (Favoreel, 1999) . Up till now, it is not known if FIPV affects the MHC I expression on the surface of FIPV-infected cells in FIP cats. In the present study, it was examined in infected monocytes/macrophages of FIP cats if viral antigens are expressed on the plasma membrane and if the expression of MHC I molecules was inhibited. Twelve cats strongly suspected of FIP by clinicians (based on cat profile, clinical signs and blood and/or exudate examination) were used in this study. The sex, age, breed, FCoV antibody titre and type of FIP (effusive or non-effusive) are listed in Table 1 .  Monospecific, polyclonal antibodies originating from cats infected with serotype II FIPV 79-1146 were kindly provided by Dr. Egberinck (Utrecht University, The Netherlands). Polyclonal antibodies against FIPV serotype I were isolated from a cat infected with a serotype I strain. Immunoblotting showed strong reaction with the spike protein of the serotype I strain Black. Both polyclonal antibodies against serotypes I and II were purified and biotinylated according to manufacturer's instructions (Amersham Bioscience, Buckinghamshire, UK). A mixture of both biotinylated antibodies was used in the immunofluorescent stainings (biotinylated anti-FIPV Ab). It was confirmed that the mixture of biotinylated antibodies was able to stain surface expression of both serotype I as serotype II viruses. Feline polyclonal fluorescein-conjugated antibodies detecting both serotypes I and II (anti-FIPV-FITC Ab), a major histocompatibility complex I (MHC I) marker (CF298A) and a monocyte-macrophagegranulocyte marker (DH59B) were purchased from Veterinary Medical Research and Development (VMRD) (Pullman, Washington, USA). Cats were euthanized using 1 ml/1.5 kg Na-pentobarbital (Kela, Hoogstraten, Belgium) and exudates were collected and diluted 1:1 with phosphate-buffered saline (PBS) containing 15 U/ml heparin (Leo, Zaventem, Belgium). Cells present in the exudate were collected by centrifugation at 400 Â g for 10 min at 4 8C. Afterwards, tissues with pyogranulomas were collected. Small blocks containing almost just the pyogranulomas were immediately placed in RPMI-1640 at 37 8C (Gibco BRL, Merelbeke, Belgium). For isolation of individual cells the small blocks were mechanically separated using two needles. The cell suspension was then centrifuged at 400 Â g for 10 min at 4 8C. The obtained cell suspensions from the exudates and the tissues with pyogranulomas were each divided in three parts on which different stainings in suspension were performed. The cells from the pyogranulomas and the exudate of cat 2 were stained together. The first staining was performed to determine the viability and the monocyte/macrophage nature of the FIPV positive cells. Since the marker DH59B also detects granulocytes, besides macrophages and monocytes, the morphology of the nucleus was taken into account to determine whether the cells belonged to the monocyte/macrophage lineage. The second staining was performed to detect if viral antigens were present on the surface of FIPV positive cells. The third staining was performed to determine the presence of MHC I on the surface of FIPV positive cells and the effect on the viability of the cells. The latter staining was only performed for cats 6, 7, 8 and 9. The different staining steps and used antibodies and conjugates are given in Table 2 . After staining, cells were mounted on microscope slides using glycerin-PBS solution (0.9/0.1, v/v) with 2.5% 1,4-diazabicyclo(2,2,2)octane (Janssen Chimica, Beerse, Belgium) and analyzed by a Leica DM RBE fluorescence microscope (Leica Microsystems GmbH, Wetzlar, Germany). The isolated cells from cats 10, 11 and 12 were cultured in a 24-well plate on a glass coverslip for 0, 2, 4 and 6 h. At each time point, the immunofluorescence staining for detection of surface expressed viral antigens was performed (staining 2). After staining, the glass coverslips were mounted on microscope slides and analyzed by fluorescence microscopy. Results were analyzed with the Wilcoxon signed ranks test. Statistical analyses were performed with SPSS 11.0 (SPSS Inc., Chicago, Illinois, USA). FIPV positive cells were found in cell suspensions from exudates and pyogranulomas in all cats. The percentage of FIPV positive cells varied from <1 to 10% (Table 3 ). The majority of the FIPV positive cells (95 AE 5%) belonged to the monocyte/macrophage lineage (mononuclear and DH59B positive) (Fig. 1 , lane A). Less than 1% of the FIPV positive cells showed a polymorphonuclear nucleus. Staining 2 revealed that no infected cells showed expression of viral antigens on their surface (Fig. 1,  lane B) . After cultivation of the FIPV positive cells, viral antigens were re-expressed on the plasma membrane as soon as 2 h post-seeding. Re-expression only occurred in 52 AE 10% of infected cells (Fig. 2) . The results of the MHC I staining (staining 3) in isolated cells of cats 6, 7, 8 and 9 showed that MHC I expression was present on 98 AE 3% of the FIPV positive cells (Fig. 1, of MHC I expression was observed between live and dead cells. The results of the viability staining (staining 1) are given in Table 3 . This staining showed that the percentage of dead FIPV positive monocytes in pyogranulomas was significantly higher than the control cells (FIPV negative, DH95B positive cells) ( p < 0.1), whereas no difference was observed in exudates between FIPV positive monocytes and the control cells. In this study, it was shown that FIPV positive monocytes in cats with FIP express MHC I on their surface, but not viral antigens. The presence of viral antigens on the cell surface of infected cells is important for the recognition and elimination of infected cells by the immune system. Binding of virus-specific antibodies to viral proteins present on the surface, makes infected cells recognizable for the classical complement pathway, phagocytes and natural killer cells, which will lead to lysis of infected cells (Harper, 1994) . In this study, viral antigens were not detected on the surface of FIPV positive cells isolated from nine cats with FIP. This could implicate that the FIPV positive cells may remain ''invisible'' for the humoral immune system and continue the production of progeny virus without being eliminated. It is not known which mechanism lies behind the absence of surface expressed viral antigens. The results of the cultivation experiment demonstrated that about half of the infected cells are not capable of expressing viral antigens on their surface. This observation is consistent with the in vitro findings of Dewerchin et al. (2005) . They showed that 50% of FIPV 79-1146 infected monocytes do not express viral antigens on the plasma membrane. The absence of viral antigens on the surface of FIPV positive cells isolated from FIP cats that seem to be capable of expressing viral antigens, can be due to the fact that virus-specific antibodies bind to the antigens and as a consequence the viral antigens are internalized. Another possibility is antibody-induced capping of viral antigens and extrusion from the cell. Since the antibody-induced internalization has been described in in vitro infected monocytes that do show surface expressed viral antigens, it most likely occurs also in vivo (Dewerchin et al., 2006) . The fact that viral antigens could not be demonstrated with the used staining is not the result of antibodies present in the cat that already bound to these antigens and hinder binding of other antibodies. This hindering is not likely to occur since in FIPVinfected Crandell feline kidney cells, surface expressed FIPV antigens covered by strain specific antibodies were still accessible for other antibodies (data not shown). Besides antibody-mediated elimination of virusinfected cells, cytotoxic T lymphocytes (CTLs) are also capable of killing infected cells. During an infection, viral peptides are loaded on MHC I molecules and transported to the plasma membrane. This complex may be recognized by CTLs which leads to killing of the infected cell. In this study, the presence of MHC I on FIPV positive cells was analyzed. On all FIPV positive cells MHC I was present, showing that no internalization or retention of the MHC I molecules occurs. However, with the used techniques, it was not possible to quantify the number of MHC I molecules and to determine whether the MHC I molecules were loaded with FIPV peptides. With the exception of two cats, higher cell death in infected cells seems to be present in pyogranulomas. In exudates, this observation was not made. The cause of this difference between pyogranulomas and exudates is not clear. The increased cell death may be due to infection or to the response of the immune system on the infected cell. Since no viral antigens are present on the plasma membrane, it can be stated that antibody-mediated lysis is inhibited. The expression of MHC I is not inhibited in infected cells, indicating that the cellular immunity may still be able to lyse the infected cell, if viral peptides are presented. It is generally accepted that a strong cellular immunity enables the cat to overcome infection (Pedersen and Black, 1983; Hayashi et al., 1982; Weiss and Cox, 1989) . However, it has also been postulated that, during a chronic FIPV infection, the cell-mediated lysis is inhibited due to apoptosis and T-cell depletion caused by soluble mediators released during infection (Haagmans et al., 1996; de Groot-Mijnes et al., 2005) . Taking into account all these observations, it becomes clear that the outcome of a FIPV infection is a complicated interaction of the immune system and the virus. One thing is sure, the humoral immune response is not able to protect the cat against progression of viral replication and consequently of disease. The precise role of the cellular immune response in protection needs to be further investigated. In conclusion, it can be stated that cytoplasmic FIPV-infected cells do not show surface expressed viral antigens in vivo which may make them invisible for the humoral immune response. In contrast, MHC I molecules are abundantly present on their surface.\"\n",
       "\n",
       "$journal\n",
       "[1] \"Veterinary Microbiology\"\n",
       "\n",
       "$doi\n",
       "[1] \"10.1016/j.vetmic.2006.11.026\"\n"
      ]
     },
     "metadata": {},
     "output_type": "display_data"
    },
    {
     "data": {
      "text/html": [
       "95980"
      ],
      "text/latex": [
       "95980"
      ],
      "text/markdown": [
       "95980"
      ],
      "text/plain": [
       "[1] 95980"
      ]
     },
     "metadata": {},
     "output_type": "display_data"
    }
   ],
   "source": [
    "# Observamos la primera fila del nuevo Data Frame menos el cuerpo\n",
    "as.list(covid_df[1, -5])\n",
    "# Comprobamos el número de artículos existentes\n",
    "nrow(covid_df)"
   ]
  },
  {
   "cell_type": "markdown",
   "metadata": {},
   "source": [
    "¡¡¡¡CONTADOR DE PALABRAS!!!! (/covid_df_feather_palabras)\n",
    "1 minutos"
   ]
  },
  {
   "cell_type": "code",
   "execution_count": 13,
   "metadata": {},
   "outputs": [],
   "source": [
    "# Contamos el número de palabras para el abstracto ...\n",
    "covid_df$words_abstract <- apply(covid_df['abstract_text'], 2, function(s) str_count(s, '\\\\w+'))\n",
    "# ... y el cuerpo del texto\n",
    "covid_df$words_body <- apply(covid_df['body_text'], 2, function(s) str_count(s, '\\\\w+'))\n",
    "# Mostramos el número de palabras de los primeros textos\n"
   ]
  },
  {
   "cell_type": "code",
   "execution_count": 19,
   "metadata": {},
   "outputs": [
    {
     "data": {
      "text/html": [
       "<table>\n",
       "<caption>A tibble: 6 × 3</caption>\n",
       "<thead>\n",
       "\t<tr><th scope=col>title_text</th><th scope=col>words_abstract</th><th scope=col>words_body</th></tr>\n",
       "\t<tr><th scope=col>&lt;chr&gt;</th><th scope=col>&lt;int[,1]&gt;</th><th scope=col>&lt;int[,1]&gt;</th></tr>\n",
       "</thead>\n",
       "<tbody>\n",
       "\t<tr><td>Absence of surface expression of feline infectious peritonitis virus (FIPV) antigens on infected cells isolated from cats with FIP</td><td>170</td><td>2120</td></tr>\n",
       "\t<tr><td>Detection of Severe Acute Respiratory Syndrome Coronavirus 2 (SARS-CoV-2) by Mass Spectrometry                                    </td><td>267</td><td>2024</td></tr>\n",
       "\t<tr><td>Title: Rethinking high-risk groups in COVID-19                                                                                    </td><td>  1</td><td> 977</td></tr>\n",
       "\t<tr><td>ScienceDirect ScienceDirect Effect of Nanomaterial Shape on Fabrication of Conformal Circuits                                     </td><td>344</td><td>3331</td></tr>\n",
       "\t<tr><td>Plasma inflammatory cytokines and chemokines in severe acute respiratory syndrome                                                 </td><td>203</td><td>2968</td></tr>\n",
       "\t<tr><td>Journal Pre-proofs The Fire This Time: The Stress of Racism, Inflammation and COVID-19                                            </td><td>  1</td><td>1020</td></tr>\n",
       "</tbody>\n",
       "</table>\n"
      ],
      "text/latex": [
       "A tibble: 6 × 3\n",
       "\\begin{tabular}{lll}\n",
       " title\\_text & words\\_abstract & words\\_body\\\\\n",
       " <chr> & <int{[},1{]}> & <int{[},1{]}>\\\\\n",
       "\\hline\n",
       "\t Absence of surface expression of feline infectious peritonitis virus (FIPV) antigens on infected cells isolated from cats with FIP & 170 & 2120\\\\\n",
       "\t Detection of Severe Acute Respiratory Syndrome Coronavirus 2 (SARS-CoV-2) by Mass Spectrometry                                     & 267 & 2024\\\\\n",
       "\t Title: Rethinking high-risk groups in COVID-19                                                                                     &   1 &  977\\\\\n",
       "\t ScienceDirect ScienceDirect Effect of Nanomaterial Shape on Fabrication of Conformal Circuits                                      & 344 & 3331\\\\\n",
       "\t Plasma inflammatory cytokines and chemokines in severe acute respiratory syndrome                                                  & 203 & 2968\\\\\n",
       "\t Journal Pre-proofs The Fire This Time: The Stress of Racism, Inflammation and COVID-19                                             &   1 & 1020\\\\\n",
       "\\end{tabular}\n"
      ],
      "text/markdown": [
       "\n",
       "A tibble: 6 × 3\n",
       "\n",
       "| title_text &lt;chr&gt; | words_abstract &lt;int[,1]&gt; | words_body &lt;int[,1]&gt; |\n",
       "|---|---|---|\n",
       "| Absence of surface expression of feline infectious peritonitis virus (FIPV) antigens on infected cells isolated from cats with FIP | 170 | 2120 |\n",
       "| Detection of Severe Acute Respiratory Syndrome Coronavirus 2 (SARS-CoV-2) by Mass Spectrometry                                     | 267 | 2024 |\n",
       "| Title: Rethinking high-risk groups in COVID-19                                                                                     |   1 |  977 |\n",
       "| ScienceDirect ScienceDirect Effect of Nanomaterial Shape on Fabrication of Conformal Circuits                                      | 344 | 3331 |\n",
       "| Plasma inflammatory cytokines and chemokines in severe acute respiratory syndrome                                                  | 203 | 2968 |\n",
       "| Journal Pre-proofs The Fire This Time: The Stress of Racism, Inflammation and COVID-19                                             |   1 | 1020 |\n",
       "\n"
      ],
      "text/plain": [
       "  title_text                                                                                                                        \n",
       "1 Absence of surface expression of feline infectious peritonitis virus (FIPV) antigens on infected cells isolated from cats with FIP\n",
       "2 Detection of Severe Acute Respiratory Syndrome Coronavirus 2 (SARS-CoV-2) by Mass Spectrometry                                    \n",
       "3 Title: Rethinking high-risk groups in COVID-19                                                                                    \n",
       "4 ScienceDirect ScienceDirect Effect of Nanomaterial Shape on Fabrication of Conformal Circuits                                     \n",
       "5 Plasma inflammatory cytokines and chemokines in severe acute respiratory syndrome                                                 \n",
       "6 Journal Pre-proofs The Fire This Time: The Stress of Racism, Inflammation and COVID-19                                            \n",
       "  words_abstract words_body\n",
       "1 170            2120      \n",
       "2 267            2024      \n",
       "3   1             977      \n",
       "4 344            3331      \n",
       "5 203            2968      \n",
       "6   1            1020      "
      ]
     },
     "metadata": {},
     "output_type": "display_data"
    }
   ],
   "source": [
    "head(covid_df[,c('title_text', 'words_abstract', 'words_body')])"
   ]
  },
  {
   "cell_type": "markdown",
   "metadata": {},
   "source": [
    "¡¡¡¡DUPLICADOS!!! (covid_df_feather_duplicados)\n",
    "5 segundos"
   ]
  },
  {
   "cell_type": "code",
   "execution_count": 18,
   "metadata": {},
   "outputs": [
    {
     "data": {
      "text/plain": [
       "   Mode   FALSE    TRUE \n",
       "logical   94519    1461 "
      ]
     },
     "metadata": {},
     "output_type": "display_data"
    },
    {
     "data": {
      "text/html": [
       "<style>\n",
       ".list-inline {list-style: none; margin:0; padding: 0}\n",
       ".list-inline>li {display: inline-block}\n",
       ".list-inline>li:not(:last-child)::after {content: \"\\00b7\"; padding: 0 .5ex}\n",
       "</style>\n",
       "<ol class=list-inline><li>2176</li><li>2590</li><li>3334</li><li>4426</li><li>5000</li><li>5018</li></ol>\n"
      ],
      "text/latex": [
       "\\begin{enumerate*}\n",
       "\\item 2176\n",
       "\\item 2590\n",
       "\\item 3334\n",
       "\\item 4426\n",
       "\\item 5000\n",
       "\\item 5018\n",
       "\\end{enumerate*}\n"
      ],
      "text/markdown": [
       "1. 2176\n",
       "2. 2590\n",
       "3. 3334\n",
       "4. 4426\n",
       "5. 5000\n",
       "6. 5018\n",
       "\n",
       "\n"
      ],
      "text/plain": [
       "[1] 2176 2590 3334 4426 5000 5018"
      ]
     },
     "metadata": {},
     "output_type": "display_data"
    }
   ],
   "source": [
    "# Comprobamos cuantos objetos tienen el mismo cuerpo\n",
    "duplicados <- duplicated(covid_df$body_text)\n",
    "# Mostramos la información obtenida\n",
    "summary(duplicados)\n",
    "# Obtenemos los 5 primeros objetos detectados como duplicados \n",
    "head(which(duplicados==TRUE))"
   ]
  },
  {
   "cell_type": "code",
   "execution_count": 20,
   "metadata": {},
   "outputs": [
    {
     "data": {
      "text/html": [
       "<table>\n",
       "<caption>A tibble: 6 × 1</caption>\n",
       "<thead>\n",
       "\t<tr><th scope=col>title_text</th></tr>\n",
       "\t<tr><th scope=col>&lt;chr&gt;</th></tr>\n",
       "</thead>\n",
       "<tbody>\n",
       "\t<tr><td>Remdesivir in Treatment of COVID-19: A Systematic Benefit-Risk Assessment                                                               </td></tr>\n",
       "\t<tr><td>Autoantibodies in Patients with Rheumatoid Arthritis                                                                                    </td></tr>\n",
       "\t<tr><td>Initial High Viral Load Is Associated with Prolonged Shedding of Human Rhinovirus in Allogeneic Hematopoietic Cell Transplant Recipients</td></tr>\n",
       "\t<tr><td>Autoantibodies in Patients with Rheumatoid Arthritis                                                                                    </td></tr>\n",
       "\t<tr><td>Extracellular superoxide dismutase, a molecular transducer of health benefits of exercise                                               </td></tr>\n",
       "\t<tr><td>COVID-19 pneumonia: different respiratory treatments for different phenotypes?                                                          </td></tr>\n",
       "</tbody>\n",
       "</table>\n"
      ],
      "text/latex": [
       "A tibble: 6 × 1\n",
       "\\begin{tabular}{l}\n",
       " title\\_text\\\\\n",
       " <chr>\\\\\n",
       "\\hline\n",
       "\t Remdesivir in Treatment of COVID-19: A Systematic Benefit-Risk Assessment                                                               \\\\\n",
       "\t Autoantibodies in Patients with Rheumatoid Arthritis                                                                                    \\\\\n",
       "\t Initial High Viral Load Is Associated with Prolonged Shedding of Human Rhinovirus in Allogeneic Hematopoietic Cell Transplant Recipients\\\\\n",
       "\t Autoantibodies in Patients with Rheumatoid Arthritis                                                                                    \\\\\n",
       "\t Extracellular superoxide dismutase, a molecular transducer of health benefits of exercise                                               \\\\\n",
       "\t COVID-19 pneumonia: different respiratory treatments for different phenotypes?                                                          \\\\\n",
       "\\end{tabular}\n"
      ],
      "text/markdown": [
       "\n",
       "A tibble: 6 × 1\n",
       "\n",
       "| title_text &lt;chr&gt; |\n",
       "|---|\n",
       "| Remdesivir in Treatment of COVID-19: A Systematic Benefit-Risk Assessment                                                                |\n",
       "| Autoantibodies in Patients with Rheumatoid Arthritis                                                                                     |\n",
       "| Initial High Viral Load Is Associated with Prolonged Shedding of Human Rhinovirus in Allogeneic Hematopoietic Cell Transplant Recipients |\n",
       "| Autoantibodies in Patients with Rheumatoid Arthritis                                                                                     |\n",
       "| Extracellular superoxide dismutase, a molecular transducer of health benefits of exercise                                                |\n",
       "| COVID-19 pneumonia: different respiratory treatments for different phenotypes?                                                           |\n",
       "\n"
      ],
      "text/plain": [
       "  title_text                                                                                                                              \n",
       "1 Remdesivir in Treatment of COVID-19: A Systematic Benefit-Risk Assessment                                                               \n",
       "2 Autoantibodies in Patients with Rheumatoid Arthritis                                                                                    \n",
       "3 Initial High Viral Load Is Associated with Prolonged Shedding of Human Rhinovirus in Allogeneic Hematopoietic Cell Transplant Recipients\n",
       "4 Autoantibodies in Patients with Rheumatoid Arthritis                                                                                    \n",
       "5 Extracellular superoxide dismutase, a molecular transducer of health benefits of exercise                                               \n",
       "6 COVID-19 pneumonia: different respiratory treatments for different phenotypes?                                                          "
      ]
     },
     "metadata": {},
     "output_type": "display_data"
    }
   ],
   "source": [
    "# Mostramos los seis primeros duplicados\n",
    "covid_df[c(2176,2590,3334,4426,5000,5018),'title_text']"
   ]
  },
  {
   "cell_type": "markdown",
   "metadata": {},
   "source": [
    "¡¡¡¡MOSTRAR DUPLICADOS!!!!"
   ]
  },
  {
   "cell_type": "code",
   "execution_count": 21,
   "metadata": {},
   "outputs": [
    {
     "data": {
      "text/html": [
       "69"
      ],
      "text/latex": [
       "69"
      ],
      "text/markdown": [
       "69"
      ],
      "text/plain": [
       "[1] 69"
      ]
     },
     "metadata": {},
     "output_type": "display_data"
    },
    {
     "data": {
      "text/html": [
       "2"
      ],
      "text/latex": [
       "2"
      ],
      "text/markdown": [
       "2"
      ],
      "text/plain": [
       "[1] 2"
      ]
     },
     "metadata": {},
     "output_type": "display_data"
    },
    {
     "data": {
      "text/html": [
       "2"
      ],
      "text/latex": [
       "2"
      ],
      "text/markdown": [
       "2"
      ],
      "text/plain": [
       "[1] 2"
      ]
     },
     "metadata": {},
     "output_type": "display_data"
    },
    {
     "data": {
      "text/html": [
       "2"
      ],
      "text/latex": [
       "2"
      ],
      "text/markdown": [
       "2"
      ],
      "text/plain": [
       "[1] 2"
      ]
     },
     "metadata": {},
     "output_type": "display_data"
    },
    {
     "data": {
      "text/html": [
       "2"
      ],
      "text/latex": [
       "2"
      ],
      "text/markdown": [
       "2"
      ],
      "text/plain": [
       "[1] 2"
      ]
     },
     "metadata": {},
     "output_type": "display_data"
    }
   ],
   "source": [
    "length(which(covid_df$title_text=='Autoantibodies in Patients with Rheumatoid Arthritis'))\n",
    "length(which(covid_df$title_text=='Remdesivir in Treatment of COVID-19: A Systematic Benefit-Risk Assessment'))\n",
    "length(which(covid_df$title_text=='Initial High Viral Load Is Associated with Prolonged Shedding of Human Rhinovirus in Allogeneic Hematopoietic Cell Transplant Recipients'))\n",
    "length(which(covid_df$title_text=='Extracellular superoxide dismutase, a molecular transducer of health benefits of exercise'))\n",
    "length(which(covid_df$title_text=='COVID-19 pneumonia: different respiratory treatments for different phenotypes?'))"
   ]
  },
  {
   "cell_type": "markdown",
   "metadata": {},
   "source": [
    "¡¡¡¡ELIMINAR DUPLICADOS!!!!"
   ]
  },
  {
   "cell_type": "code",
   "execution_count": 22,
   "metadata": {},
   "outputs": [
    {
     "data": {
      "text/html": [
       "94519"
      ],
      "text/latex": [
       "94519"
      ],
      "text/markdown": [
       "94519"
      ],
      "text/plain": [
       "[1] 94519"
      ]
     },
     "metadata": {},
     "output_type": "display_data"
    }
   ],
   "source": [
    "# Eliminamos duplicados\n",
    "covid_df <- covid_df[!duplicated(covid_df$body_text),]\n",
    "nrow(covid_df)"
   ]
  },
  {
   "cell_type": "markdown",
   "metadata": {},
   "source": [
    "¡¡¡¡DETECCION LENGUAJE!!!! (covid_df_feather_idioma.csv)"
   ]
  },
  {
   "cell_type": "code",
   "execution_count": 23,
   "metadata": {},
   "outputs": [
    {
     "data": {
      "text/plain": [
       "   body_text    \n",
       " en     :92213  \n",
       " de     :  842  \n",
       " es     :  658  \n",
       " fr     :  517  \n",
       " nl     :  130  \n",
       " (Other):   87  \n",
       " NA's   :   72  "
      ]
     },
     "metadata": {},
     "output_type": "display_data"
    }
   ],
   "source": [
    "# Añadimos una nueva columna con el idioma de cada texto\n",
    "covid_df$language <- apply(covid_df['body_text'], 2, function(s) detect_language(substring(s, 1,  2000)))\n",
    "# Información\n",
    "summary(covid_df$language)\n"
   ]
  },
  {
   "cell_type": "code",
   "execution_count": 24,
   "metadata": {},
   "outputs": [
    {
     "data": {
      "image/png": "[encoded data removed]",
      "text/plain": [
       "Plot with title \"Distribución de idiomas\""
      ]
     },
     "metadata": {
      "image/png": {
       "height": 420,
       "width": 420
      }
     },
     "output_type": "display_data"
    }
   ],
   "source": [
    "# Creación de matriz con los datos\n",
    "idiomas <- matrix(c(842, 92212, 658, 517, 130, 71, 88), ncol = 7, byrow = TRUE)\n",
    "colnames(idiomas) <- (c('Alemán','Inglés', 'Español', 'Francés', 'Holandés', 'Otros', 'NA'))\n",
    "# Generación de gráfico \n",
    "barplot(idiomas, main = 'Distribución de idiomas', xlab = 'Idiomas', ylab = 'Número de artículos', col = '#69b3a2', axes = FALSE)\n",
    "usr <- par(\"usr\")\n",
    "par(usr=c(usr[1:2], 0, 100000))\n",
    "axis(2, at=seq(0, 100000,25000))"
   ]
  },
  {
   "cell_type": "markdown",
   "metadata": {},
   "source": [
    "¡¡¡¡FILTRADO DE INGLES!!!! (covid_df_feather_ingles.csv)"
   ]
  },
  {
   "cell_type": "code",
   "execution_count": 27,
   "metadata": {},
   "outputs": [
    {
     "data": {
      "text/html": [
       "92213"
      ],
      "text/latex": [
       "92213"
      ],
      "text/markdown": [
       "92213"
      ],
      "text/plain": [
       "[1] 92213"
      ]
     },
     "metadata": {},
     "output_type": "display_data"
    }
   ],
   "source": [
    "# Nos quedamos únicamente con textos en inglés\n",
    "covid_df <- covid_df[which(covid_df$language=='en'),]\n",
    "# Mostramos el número de artículos restantes\n",
    "nrow(covid_df)"
   ]
  },
  {
   "cell_type": "markdown",
   "metadata": {},
   "source": [
    "¡¡¡¡INFORMACION PALABRAS!!!!"
   ]
  },
  {
   "cell_type": "code",
   "execution_count": 28,
   "metadata": {},
   "outputs": [
    {
     "data": {
      "text/plain": [
       " words_abstract.abstract_text words_body.body_text\n",
       " Min.   :   1.000             Min.   :     1.00   \n",
       " 1st Qu.:   1.000             1st Qu.:  1658.00   \n",
       " Median : 162.000             Median :  3119.00   \n",
       " Mean   : 174.521             Mean   :  4022.11   \n",
       " 3rd Qu.: 249.000             3rd Qu.:  4834.00   \n",
       " Max.   :7922.000             Max.   :293299.00   "
      ]
     },
     "metadata": {},
     "output_type": "display_data"
    }
   ],
   "source": [
    "# Información sobre el número de palabras\n",
    "summary(covid_df[,c('words_abstract','words_body')])"
   ]
  },
  {
   "cell_type": "code",
   "execution_count": 29,
   "metadata": {},
   "outputs": [
    {
     "data": {
      "image/png": "[encoded data removed]",
      "text/plain": [
       "plot without title"
      ]
     },
     "metadata": {
      "image/png": {
       "height": 420,
       "width": 420
      }
     },
     "output_type": "display_data"
    },
    {
     "data": {
      "image/png": "[encoded data removed]",
      "text/plain": [
       "plot without title"
      ]
     },
     "metadata": {
      "image/png": {
       "height": 420,
       "width": 420
      }
     },
     "output_type": "display_data"
    }
   ],
   "source": [
    "# Generación del grafo para el resumen con histograma y densidad\n",
    "palabras_abstract <- ggplot(covid_df, aes(x=words_abstract)) + geom_histogram(aes(y=..density..), alpha=.3, fill=\"cyan\", bins=80) + geom_density( colour=\"blue\") + theme_classic() + ggtitle('Distribución del número de palabras en el resumen') +  xlab('Número de palabras del resumen') + ylab('Densidad')\n",
    "# Misma operación para el cuerpo del texto\n",
    "palabras_cuerpo <- ggplot(covid_df, aes(x=words_body)) + geom_histogram(aes(y=..density..), alpha=.3, fill=\"cyan\", bins=80) + geom_density( colour=\"blue\") + theme_classic() + scale_x_continuous(labels = comma) + ggtitle('Distribución del número de palabras en el cuerpo')  +  xlab('Número de palabras del cuerpo') + ylab('Densidad')\n",
    "# Mostramos los gráficos\n",
    "palabras_abstract\n",
    "palabras_cuerpo"
   ]
  },
  {
   "cell_type": "markdown",
   "metadata": {},
   "source": [
    "¡¡¡¡MAS INFORMACION PALABRAS!!!!"
   ]
  },
  {
   "cell_type": "code",
   "execution_count": 34,
   "metadata": {},
   "outputs": [
    {
     "data": {
      "text/html": [
       "<table>\n",
       "<caption>A tibble: 6 × 3</caption>\n",
       "<thead>\n",
       "\t<tr><th scope=col>title_text</th><th scope=col>abstract_text</th><th scope=col>words_abstract</th></tr>\n",
       "\t<tr><th scope=col>&lt;chr&gt;</th><th scope=col>&lt;chr&gt;</th><th scope=col>&lt;int[,1]&gt;</th></tr>\n",
       "</thead>\n",
       "<tbody>\n",
       "\t<tr><td><span style=white-space:pre-wrap>Loss of IKK subunits limits NF-&lt;U+03BA&gt;B signaling in reovirus infected cells 4 5                                                                                                     </span></td><td><span style=white-space:pre-wrap>  18                                                                    </span></td><td>1</td></tr>\n",
       "\t<tr><td>Title: Piloting Forensic Tele-Mental Health Evaluations of Asylum Seekers                                                                                                             </td><td> Problem                                                                </td><td>1</td></tr>\n",
       "\t<tr><td>NoIncluido                                                                                                                                                                            </td><td> This article examines the changes made                                 </td><td>6</td></tr>\n",
       "\t<tr><td>A Cluster-Randomized Trial of Hydroxychloroquine as Prevention of Covid-19 Transmission and 1 Disease 2                                                                               </td><td> Background 49                                                          </td><td>2</td></tr>\n",
       "\t<tr><td>Early View Sleep apnoea management in Europe during the COVID-19 pandemic: data from the European Sleep Apnoea Database (ESADA)                                                       </td><td> on behalf of the ESADA collaborators Affiliations:                     </td><td>7</td></tr>\n",
       "\t<tr><td>Initial characterisation of ELISA assays and the immune response of the clinically correlated SARS-CoV-2 biobank \"SERO-BL-COVID-19\" collected during the pandemic onset in Switzerland</td><td> Background To accurately measure seroprevalance in the population, both</td><td>9</td></tr>\n",
       "</tbody>\n",
       "</table>\n"
      ],
      "text/latex": [
       "A tibble: 6 × 3\n",
       "\\begin{tabular}{lll}\n",
       " title\\_text & abstract\\_text & words\\_abstract\\\\\n",
       " <chr> & <chr> & <int{[},1{]}>\\\\\n",
       "\\hline\n",
       "\t Loss of IKK subunits limits NF-<U+03BA>B signaling in reovirus infected cells 4 5                                                                                                      &   18                                                                     & 1\\\\\n",
       "\t Title: Piloting Forensic Tele-Mental Health Evaluations of Asylum Seekers                                                                                                              &  Problem                                                                 & 1\\\\\n",
       "\t NoIncluido                                                                                                                                                                             &  This article examines the changes made                                  & 6\\\\\n",
       "\t A Cluster-Randomized Trial of Hydroxychloroquine as Prevention of Covid-19 Transmission and 1 Disease 2                                                                                &  Background 49                                                           & 2\\\\\n",
       "\t Early View Sleep apnoea management in Europe during the COVID-19 pandemic: data from the European Sleep Apnoea Database (ESADA)                                                        &  on behalf of the ESADA collaborators Affiliations:                      & 7\\\\\n",
       "\t Initial characterisation of ELISA assays and the immune response of the clinically correlated SARS-CoV-2 biobank \"SERO-BL-COVID-19\" collected during the pandemic onset in Switzerland &  Background To accurately measure seroprevalance in the population, both & 9\\\\\n",
       "\\end{tabular}\n"
      ],
      "text/markdown": [
       "\n",
       "A tibble: 6 × 3\n",
       "\n",
       "| title_text &lt;chr&gt; | abstract_text &lt;chr&gt; | words_abstract &lt;int[,1]&gt; |\n",
       "|---|---|---|\n",
       "| Loss of IKK subunits limits NF-&lt;U+03BA&gt;B signaling in reovirus infected cells 4 5                                                                                                      |   18                                                                     | 1 |\n",
       "| Title: Piloting Forensic Tele-Mental Health Evaluations of Asylum Seekers                                                                                                              |  Problem                                                                 | 1 |\n",
       "| NoIncluido                                                                                                                                                                             |  This article examines the changes made                                  | 6 |\n",
       "| A Cluster-Randomized Trial of Hydroxychloroquine as Prevention of Covid-19 Transmission and 1 Disease 2                                                                                |  Background 49                                                           | 2 |\n",
       "| Early View Sleep apnoea management in Europe during the COVID-19 pandemic: data from the European Sleep Apnoea Database (ESADA)                                                        |  on behalf of the ESADA collaborators Affiliations:                      | 7 |\n",
       "| Initial characterisation of ELISA assays and the immune response of the clinically correlated SARS-CoV-2 biobank \"SERO-BL-COVID-19\" collected during the pandemic onset in Switzerland |  Background To accurately measure seroprevalance in the population, both | 9 |\n",
       "\n"
      ],
      "text/plain": [
       "  title_text                                                                                                                                                                            \n",
       "1 Loss of IKK subunits limits NF-<U+03BA>B signaling in reovirus infected cells 4 5                                                                                                     \n",
       "2 Title: Piloting Forensic Tele-Mental Health Evaluations of Asylum Seekers                                                                                                             \n",
       "3 NoIncluido                                                                                                                                                                            \n",
       "4 A Cluster-Randomized Trial of Hydroxychloroquine as Prevention of Covid-19 Transmission and 1 Disease 2                                                                               \n",
       "5 Early View Sleep apnoea management in Europe during the COVID-19 pandemic: data from the European Sleep Apnoea Database (ESADA)                                                       \n",
       "6 Initial characterisation of ELISA assays and the immune response of the clinically correlated SARS-CoV-2 biobank \"SERO-BL-COVID-19\" collected during the pandemic onset in Switzerland\n",
       "  abstract_text                                                           \n",
       "1   18                                                                    \n",
       "2  Problem                                                                \n",
       "3  This article examines the changes made                                 \n",
       "4  Background 49                                                          \n",
       "5  on behalf of the ESADA collaborators Affiliations:                     \n",
       "6  Background To accurately measure seroprevalance in the population, both\n",
       "  words_abstract\n",
       "1 1             \n",
       "2 1             \n",
       "3 6             \n",
       "4 2             \n",
       "5 7             \n",
       "6 9             "
      ]
     },
     "metadata": {},
     "output_type": "display_data"
    }
   ],
   "source": [
    "# Cinco primeros artículos con menos de diez palabras en el abstracto\n",
    "covid_df[head(which(covid_df$words_abstract < 10 & covid_df$abstract_text != 'NoIncluido')), c('title_text', 'abstract_text', 'words_abstract')]"
   ]
  },
  {
   "cell_type": "code",
   "execution_count": 36,
   "metadata": {},
   "outputs": [
    {
     "data": {
      "text/html": [
       "<table>\n",
       "<caption>A tibble: 6 × 3</caption>\n",
       "<thead>\n",
       "\t<tr><th scope=col>title_text</th><th scope=col>body_text</th><th scope=col>words_body</th></tr>\n",
       "\t<tr><th scope=col>&lt;chr&gt;</th><th scope=col>&lt;chr&gt;</th><th scope=col>&lt;int[,1]&gt;</th></tr>\n",
       "</thead>\n",
       "<tbody>\n",
       "\t<tr><td>Severe SARS-CoV-2 infection in humans is defined by a shift in the serum lipidome resulting in dysregulation of eicosanoid immune mediators                                                                                               </td><td> Supplemental Figure 15                      </td><td>3</td></tr>\n",
       "\t<tr><td>Journal Pre-proof How to optimize the management of gestational trophoblastic disease during the COVID era?                                                                                                                               </td><td> The authors report no conflict of interest. </td><td>7</td></tr>\n",
       "\t<tr><td>NoIncluido                                                                                                                                                                                                                                </td><td> Journal Pre-proof Should                    </td><td>4</td></tr>\n",
       "\t<tr><td>Journal Pre-proof Are healthcare workers during the COVID-19 pandemic at risk of psychosis? Findings from a scoping review Title: Are healthcare workers during the COVID-19 pandemic at risk of psychosis? Findings from a scoping review</td><td> results of a scoping review.                </td><td>5</td></tr>\n",
       "\t<tr><td>Der Chirurg Journal Club                                                                                                                                                                                                                  </td><td> Originalpublikation Sud                     </td><td>2</td></tr>\n",
       "\t<tr><td>Journal Pre-proof THORACIC SURGERY FOR MALIGNANCY AND EMERGENCY IRRESPECTIVE OF COVID-19                                                                                                                                                  </td><td> To the Editor:                              </td><td>3</td></tr>\n",
       "</tbody>\n",
       "</table>\n"
      ],
      "text/latex": [
       "A tibble: 6 × 3\n",
       "\\begin{tabular}{lll}\n",
       " title\\_text & body\\_text & words\\_body\\\\\n",
       " <chr> & <chr> & <int{[},1{]}>\\\\\n",
       "\\hline\n",
       "\t Severe SARS-CoV-2 infection in humans is defined by a shift in the serum lipidome resulting in dysregulation of eicosanoid immune mediators                                                                                                &  Supplemental Figure 15                       & 3\\\\\n",
       "\t Journal Pre-proof How to optimize the management of gestational trophoblastic disease during the COVID era?                                                                                                                                &  The authors report no conflict of interest.  & 7\\\\\n",
       "\t NoIncluido                                                                                                                                                                                                                                 &  Journal Pre-proof Should                     & 4\\\\\n",
       "\t Journal Pre-proof Are healthcare workers during the COVID-19 pandemic at risk of psychosis? Findings from a scoping review Title: Are healthcare workers during the COVID-19 pandemic at risk of psychosis? Findings from a scoping review &  results of a scoping review.                 & 5\\\\\n",
       "\t Der Chirurg Journal Club                                                                                                                                                                                                                   &  Originalpublikation Sud                      & 2\\\\\n",
       "\t Journal Pre-proof THORACIC SURGERY FOR MALIGNANCY AND EMERGENCY IRRESPECTIVE OF COVID-19                                                                                                                                                   &  To the Editor:                               & 3\\\\\n",
       "\\end{tabular}\n"
      ],
      "text/markdown": [
       "\n",
       "A tibble: 6 × 3\n",
       "\n",
       "| title_text &lt;chr&gt; | body_text &lt;chr&gt; | words_body &lt;int[,1]&gt; |\n",
       "|---|---|---|\n",
       "| Severe SARS-CoV-2 infection in humans is defined by a shift in the serum lipidome resulting in dysregulation of eicosanoid immune mediators                                                                                                |  Supplemental Figure 15                       | 3 |\n",
       "| Journal Pre-proof How to optimize the management of gestational trophoblastic disease during the COVID era?                                                                                                                                |  The authors report no conflict of interest.  | 7 |\n",
       "| NoIncluido                                                                                                                                                                                                                                 |  Journal Pre-proof Should                     | 4 |\n",
       "| Journal Pre-proof Are healthcare workers during the COVID-19 pandemic at risk of psychosis? Findings from a scoping review Title: Are healthcare workers during the COVID-19 pandemic at risk of psychosis? Findings from a scoping review |  results of a scoping review.                 | 5 |\n",
       "| Der Chirurg Journal Club                                                                                                                                                                                                                   |  Originalpublikation Sud                      | 2 |\n",
       "| Journal Pre-proof THORACIC SURGERY FOR MALIGNANCY AND EMERGENCY IRRESPECTIVE OF COVID-19                                                                                                                                                   |  To the Editor:                               | 3 |\n",
       "\n"
      ],
      "text/plain": [
       "  title_text                                                                                                                                                                                                                                \n",
       "1 Severe SARS-CoV-2 infection in humans is defined by a shift in the serum lipidome resulting in dysregulation of eicosanoid immune mediators                                                                                               \n",
       "2 Journal Pre-proof How to optimize the management of gestational trophoblastic disease during the COVID era?                                                                                                                               \n",
       "3 NoIncluido                                                                                                                                                                                                                                \n",
       "4 Journal Pre-proof Are healthcare workers during the COVID-19 pandemic at risk of psychosis? Findings from a scoping review Title: Are healthcare workers during the COVID-19 pandemic at risk of psychosis? Findings from a scoping review\n",
       "5 Der Chirurg Journal Club                                                                                                                                                                                                                  \n",
       "6 Journal Pre-proof THORACIC SURGERY FOR MALIGNANCY AND EMERGENCY IRRESPECTIVE OF COVID-19                                                                                                                                                  \n",
       "  body_text                                     words_body\n",
       "1  Supplemental Figure 15                       3         \n",
       "2  The authors report no conflict of interest.  7         \n",
       "3  Journal Pre-proof Should                     4         \n",
       "4  results of a scoping review.                 5         \n",
       "5  Originalpublikation Sud                      2         \n",
       "6  To the Editor:                               3         "
      ]
     },
     "metadata": {},
     "output_type": "display_data"
    }
   ],
   "source": [
    "# Y menos de diez palabras en el cuerpo\n",
    "covid_df[head(which(covid_df$words_body < 10)), c('title_text', 'body_text', 'words_body')]"
   ]
  },
  {
   "cell_type": "markdown",
   "metadata": {},
   "source": [
    "¡¡¡¡ELIMINACION DE PALABRAS!!!!"
   ]
  },
  {
   "cell_type": "code",
   "execution_count": 37,
   "metadata": {},
   "outputs": [
    {
     "data": {
      "text/html": [
       "1317"
      ],
      "text/latex": [
       "1317"
      ],
      "text/markdown": [
       "1317"
      ],
      "text/plain": [
       "[1] 1317"
      ]
     },
     "metadata": {},
     "output_type": "display_data"
    },
    {
     "data": {
      "text/html": [
       "<style>\n",
       ".list-inline {list-style: none; margin:0; padding: 0}\n",
       ".list-inline>li {display: inline-block}\n",
       ".list-inline>li:not(:last-child)::after {content: \"\\00b7\"; padding: 0 .5ex}\n",
       "</style>\n",
       "<ol class=list-inline><li>'trying'</li><li>'grouping'</li><li>'resulting'</li><li>'ge'</li><li>'following'</li><li>'sy'</li><li>'primarily'</li><li>'kw'</li><li>'one\\'s'</li><li>'arent'</li></ol>\n"
      ],
      "text/latex": [
       "\\begin{enumerate*}\n",
       "\\item 'trying'\n",
       "\\item 'grouping'\n",
       "\\item 'resulting'\n",
       "\\item 'ge'\n",
       "\\item 'following'\n",
       "\\item 'sy'\n",
       "\\item 'primarily'\n",
       "\\item 'kw'\n",
       "\\item 'one\\textbackslash{}'s'\n",
       "\\item 'arent'\n",
       "\\end{enumerate*}\n"
      ],
      "text/markdown": [
       "1. 'trying'\n",
       "2. 'grouping'\n",
       "3. 'resulting'\n",
       "4. 'ge'\n",
       "5. 'following'\n",
       "6. 'sy'\n",
       "7. 'primarily'\n",
       "8. 'kw'\n",
       "9. 'one\\'s'\n",
       "10. 'arent'\n",
       "\n",
       "\n"
      ],
      "text/plain": [
       " [1] \"trying\"    \"grouping\"  \"resulting\" \"ge\"        \"following\" \"sy\"       \n",
       " [7] \"primarily\" \"kw\"        \"one's\"     \"arent\"    "
      ]
     },
     "metadata": {},
     "output_type": "display_data"
    }
   ],
   "source": [
    "# Cargamos la lista del paquete stopwords\n",
    "p_vacias <- stopwords::stopwords(\"en\",source = \"stopwords-iso\")\n",
    "# Añadimos más palabrasa \n",
    "p_propias <- c('doi', 'preprint', 'copyright', 'org', 'https', 'et', 'al', 'author', 'figure', 'table',\n",
    "    'rights', 'reserved', 'permission', 'use', 'used', 'using', 'biorxiv', 'medrxiv', 'license', 'fig', 'fig.', 'al.', 'Elsevier', 'PMC', 'CZI',\n",
    "    '-PRON-', 'usually')\n",
    "# Y las juntamos\n",
    "p_vacias <- append(p_vacias, p_propias)\n",
    "# Eliminamos cualquier posible duplicado\n",
    "p_vacias <- unique(p_vacias)\n",
    "# Vemos información al respecto\n",
    "length(p_vacias)\n",
    "sample(p_vacias, 10)"
   ]
  },
  {
   "cell_type": "code",
   "execution_count": 38,
   "metadata": {},
   "outputs": [],
   "source": [
    "# Almacenamos el primer resumen para comparar\n",
    "resumen <- covid_df$abstract_text[1]\n",
    "# Conversión del resumen a minúsculas\n",
    "covid_df$abstract_text <- apply(covid_df['abstract_text'], 2, function(s) tolower(s))\n",
    "# Eliminación de signos de puntuación\n",
    "covid_df$abstract_text <- apply(covid_df['abstract_text'], 2, function(s) removePunctuation(s, preserve_intra_word_contractions = TRUE, preserve_intra_word_dashes = TRUE))\n",
    "# Eliminación de palabras vacías\n",
    "covid_df$abstract_text <- apply(covid_df['abstract_text'], 2, function(s) remove_stopwords(s, p_vacias, lines = TRUE))\n",
    "# Añadimos nueva columna con número de palabras actuales\n",
    "covid_df$new_word_abstract <- apply(covid_df['abstract_text'], 2, function(s) str_count(s, '\\\\w+'))"
   ]
  },
  {
   "cell_type": "code",
   "execution_count": null,
   "metadata": {},
   "outputs": [],
   "source": [
    "# Repetimos la operación con el cuerpo\n",
    "# Conversión del cuerpo a minúsculas\n",
    "covid_df$body_text <- apply(covid_df['body_text'], 2, function(s) tolower(s))\n",
    "# Eliminación de signos de puntuación\n",
    "covid_df$body_text <- apply(covid_df['body_text'], 2, function(s) removePunctuation(s))\n",
    "# Eliminación de palabras vacías\n",
    "covid_df$body_text <- apply(covid_df['body_text'], 2, function(s) remove_stopwords(s, p_vacias, lines = TRUE))\n",
    "# Añadimos nueva columna con número de palabras actuales\n",
    "covid_df$new_word_body <- apply(covid_df['body_text'], 2, function(s) str_count(s, '\\\\w+'))                            "
   ]
  },
  {
   "cell_type": "code",
   "execution_count": 41,
   "metadata": {},
   "outputs": [
    {
     "data": {
      "text/html": [
       "' Feline infectious peritonitis virus (FIPV) positive cells are present in pyogranulomas and exudates'"
      ],
      "text/latex": [
       "' Feline infectious peritonitis virus (FIPV) positive cells are present in pyogranulomas and exudates'"
      ],
      "text/markdown": [
       "' Feline infectious peritonitis virus (FIPV) positive cells are present in pyogranulomas and exudates'"
      ],
      "text/plain": [
       "[1] \" Feline infectious peritonitis virus (FIPV) positive cells are present in pyogranulomas and exudates\""
      ]
     },
     "metadata": {},
     "output_type": "display_data"
    },
    {
     "data": {
      "text/html": [
       "<span style=white-space:pre-wrap>' feline infectious peritonitis virus fipv positive cells    pyogranulomas  exudates  cats  fip  cell'</span>"
      ],
      "text/latex": [
       "' feline infectious peritonitis virus fipv positive cells    pyogranulomas  exudates  cats  fip  cell'"
      ],
      "text/markdown": [
       "<span style=white-space:pre-wrap>' feline infectious peritonitis virus fipv positive cells    pyogranulomas  exudates  cats  fip  cell'</span>"
      ],
      "text/plain": [
       "[1] \" feline infectious peritonitis virus fipv positive cells    pyogranulomas  exudates  cats  fip  cell\""
      ]
     },
     "metadata": {},
     "output_type": "display_data"
    }
   ],
   "source": [
    "# Comparamos el resumen original con el actual\n",
    "substring(resumen, 1, 100)\n",
    "substring(covid_df[1,'abstract_text'], 1, 100)"
   ]
  },
  {
   "cell_type": "markdown",
   "metadata": {},
   "source": [
    "¡¡¡¡COMPARAMOS NUMERO DE PALABRAS!!!!"
   ]
  },
  {
   "cell_type": "code",
   "execution_count": 45,
   "metadata": {},
   "outputs": [
    {
     "data": {
      "text/plain": [
       " new_word_abstract new_word_body    abstract_comparative body_comparative\n",
       " Min.   :   0.00   Min.   :     1   Min.   :   0.00      Min.   :     0  \n",
       " 1st Qu.:   1.00   1st Qu.:   848   1st Qu.:   0.00      1st Qu.:   798  \n",
       " Median :  88.00   Median :  1590   Median :  73.00      Median :  1504  \n",
       " Mean   :  95.74   Mean   :  2085   Mean   :  79.24      Mean   :  1945  \n",
       " 3rd Qu.: 136.00   3rd Qu.:  2495   3rd Qu.: 111.00      3rd Qu.:  2343  \n",
       " Max.   :4696.00   Max.   :162073   Max.   :5126.00      Max.   :131565  "
      ]
     },
     "metadata": {},
     "output_type": "display_data"
    },
    {
     "data": {
      "text/html": [
       "<table>\n",
       "<caption>A matrix: 3 × 3 of type int</caption>\n",
       "<thead>\n",
       "\t<tr><th></th><th scope=col>Inicial</th><th scope=col>Final</th><th scope=col>Eliminadas</th></tr>\n",
       "</thead>\n",
       "<tbody>\n",
       "\t<tr><th scope=row>Resumen</th><td> 16134914</td><td>  8828313</td><td>  7306601</td></tr>\n",
       "\t<tr><th scope=row>Cuerpo</th><td>371628162</td><td>192247004</td><td>179381158</td></tr>\n",
       "\t<tr><th scope=row>Total</th><td>387763076</td><td>201075317</td><td>186687759</td></tr>\n",
       "</tbody>\n",
       "</table>\n"
      ],
      "text/latex": [
       "A matrix: 3 × 3 of type int\n",
       "\\begin{tabular}{r|lll}\n",
       "  & Inicial & Final & Eliminadas\\\\\n",
       "\\hline\n",
       "\tResumen &  16134914 &   8828313 &   7306601\\\\\n",
       "\tCuerpo & 371628162 & 192247004 & 179381158\\\\\n",
       "\tTotal & 387763076 & 201075317 & 186687759\\\\\n",
       "\\end{tabular}\n"
      ],
      "text/markdown": [
       "\n",
       "A matrix: 3 × 3 of type int\n",
       "\n",
       "| <!--/--> | Inicial | Final | Eliminadas |\n",
       "|---|---|---|---|\n",
       "| Resumen |  16134914 |   8828313 |   7306601 |\n",
       "| Cuerpo | 371628162 | 192247004 | 179381158 |\n",
       "| Total | 387763076 | 201075317 | 186687759 |\n",
       "\n"
      ],
      "text/plain": [
       "        Inicial   Final     Eliminadas\n",
       "Resumen  16134914   8828313   7306601 \n",
       "Cuerpo  371628162 192247004 179381158 \n",
       "Total   387763076 201075317 186687759 "
      ]
     },
     "metadata": {},
     "output_type": "display_data"
    }
   ],
   "source": [
    "# Creamos dos nuevas columnas con la resta de palabras originales y actuales\n",
    "covid_df$abstract_comparative <- covid_df$words_abstract - covid_df$new_word_abstract\n",
    "covid_df$body_comparative <- covid_df$words_body - covid_df$new_word_body\n",
    "# Mostramos un resumen de la información\n",
    "summary(covid_df[c('new_word_abstract', 'new_word_body', 'abstract_comparative', 'body_comparative')])\n",
    "# Calculamos el total de palabras iniciales\n",
    "inicial_resumen <- sum(covid_df$words_abstract)\n",
    "inicial_cuerpo <- sum(covid_df$words_body)\n",
    "inicial <- inicial_resumen + inicial_cuerpo\n",
    "# Calculamos el total de palabras finales\n",
    "final_resumen <- sum(covid_df$new_word_abstract)\n",
    "final_cuerpo <- sum(covid_df$new_word_body)\n",
    "final <- final_resumen + final_cuerpo\n",
    "# Calculamos las palabras eliminadas\n",
    "quitadas_resumen <- sum(covid_df$abstract_comparative)\n",
    "quitadas_cuerpo <- sum(covid_df$body_comparative)\n",
    "quitadas <- quitadas_resumen + quitadas_cuerpo\n",
    "# Mostramos los datos\n",
    "datos <- matrix(c(inicial_resumen, inicial_cuerpo, inicial, final_resumen, final_cuerpo, final, quitadas_resumen, quitadas_cuerpo, quitadas), nrow = 3, dimnames = list(c(\"Resumen\", \"Cuerpo\", \"Total\"), c(\"Inicial\", \"Final\", \"Eliminadas\")))\n",
    "datos"
   ]
  },
  {
   "cell_type": "markdown",
   "metadata": {},
   "source": [
    "¡¡¡¡GRAFICOS PARA LAS PALABRAS!!!!"
   ]
  },
  {
   "cell_type": "code",
   "execution_count": 46,
   "metadata": {},
   "outputs": [
    {
     "data": {
      "image/png": "[encoded data removed]",
      "text/plain": [
       "plot without title"
      ]
     },
     "metadata": {
      "image/png": {
       "height": 420,
       "width": 420
      }
     },
     "output_type": "display_data"
    },
    {
     "data": {
      "image/png": "[encoded data removed]",
      "text/plain": [
       "plot without title"
      ]
     },
     "metadata": {
      "image/png": {
       "height": 420,
       "width": 420
      }
     },
     "output_type": "display_data"
    },
    {
     "data": {
      "image/png": "[encoded data removed]",
      "text/plain": [
       "plot without title"
      ]
     },
     "metadata": {
      "image/png": {
       "height": 420,
       "width": 420
      }
     },
     "output_type": "display_data"
    },
    {
     "data": {
      "image/png": "[encoded data removed]",
      "text/plain": [
       "plot without title"
      ]
     },
     "metadata": {
      "image/png": {
       "height": 420,
       "width": 420
      }
     },
     "output_type": "display_data"
    }
   ],
   "source": [
    "# Generación del grafo para el resumen con histograma y densidad\n",
    "nuevas_palabras_abstract <- ggplot(covid_df, aes(x=new_word_abstract)) + geom_histogram(aes(y=..density..), alpha=.3, fill=\"cyan\", bins=80) + geom_density( colour=\"blue\") + theme_classic() + ggtitle('Distribución del número de palabras en el resumen') + xlab('Número actual de palabras del resumen') + ylab('Densidad')\n",
    "# Misma operación para el cuerpo del texto\n",
    "nuevas_palabras_cuerpo <- ggplot(covid_df, aes(x=new_word_body)) + geom_histogram(aes(y=..density..), alpha=.3, fill=\"cyan\", bins=80) + geom_density( colour=\"blue\") + theme_classic() + scale_x_continuous(labels = comma) + ggtitle('Distribución del número de palabras en el cuerpo') + xlab('Número actual de palabras del cuerpo') + ylab('Densidad')\n",
    "# Generamos grafo para ver cuantas palabras se han quitado\n",
    "comparacion_abstract<-ggplot(covid_df, aes(x=abstract_comparative)) + geom_histogram(aes(y=..density..), alpha=.3, fill=\"red\", bins=80) + geom_density( colour=\"red\") + theme_classic() + ggtitle('Palabras eliminadas del resumen') +  xlab('Número de palabras retiradas del resumen') + ylab('Densidad') + geom_vline(aes(xintercept= mean(abstract_comparative)), linetype=\"dashed\")\n",
    "# Misma operaciópn para el cuerpo del texto\n",
    "comparacion_cuerpo <- ggplot(covid_df, aes(x=body_comparative)) + geom_histogram(aes(y=..density..), alpha=.3, fill=\"red\", bins=80) + geom_density( colour=\"red\") + theme_classic() + scale_x_continuous(labels = comma) + ggtitle('Palabras eliminadas del resumen') + xlab('Número de palabras retiradas del cuerpo') + ylab('Densidad') + geom_vline(aes(xintercept= mean(body_comparative)), linetype=\"dashed\")\n",
    "\n",
    "# Mostramos los gráficos\n",
    "nuevas_palabras_abstract\n",
    "nuevas_palabras_cuerpo\n",
    "comparacion_abstract\n",
    "comparacion_cuerpo"
   ]
  },
  {
   "cell_type": "markdown",
   "metadata": {},
   "source": [
    "¡¡¡¡TOKENIZACION!!!!"
   ]
  },
  {
   "cell_type": "code",
   "execution_count": 54,
   "metadata": {},
   "outputs": [
    {
     "data": {
      "text/html": [
       "<style>\n",
       ".list-inline {list-style: none; margin:0; padding: 0}\n",
       ".list-inline>li {display: inline-block}\n",
       ".list-inline>li:not(:last-child)::after {content: \"\\00b7\"; padding: 0 .5ex}\n",
       "</style>\n",
       "<ol class=list-inline><li>'feline'</li><li>'infectious'</li><li>'peritonitis'</li><li>'virus'</li><li>'fipv'</li><li>'positive'</li><li>'cells'</li><li>'pyogranulomas'</li><li>'exudates'</li><li>'cats'</li></ol>\n"
      ],
      "text/latex": [
       "\\begin{enumerate*}\n",
       "\\item 'feline'\n",
       "\\item 'infectious'\n",
       "\\item 'peritonitis'\n",
       "\\item 'virus'\n",
       "\\item 'fipv'\n",
       "\\item 'positive'\n",
       "\\item 'cells'\n",
       "\\item 'pyogranulomas'\n",
       "\\item 'exudates'\n",
       "\\item 'cats'\n",
       "\\end{enumerate*}\n"
      ],
      "text/markdown": [
       "1. 'feline'\n",
       "2. 'infectious'\n",
       "3. 'peritonitis'\n",
       "4. 'virus'\n",
       "5. 'fipv'\n",
       "6. 'positive'\n",
       "7. 'cells'\n",
       "8. 'pyogranulomas'\n",
       "9. 'exudates'\n",
       "10. 'cats'\n",
       "\n",
       "\n"
      ],
      "text/plain": [
       " [1] \"feline\"        \"infectious\"    \"peritonitis\"   \"virus\"        \n",
       " [5] \"fipv\"          \"positive\"      \"cells\"         \"pyogranulomas\"\n",
       " [9] \"exudates\"      \"cats\"         "
      ]
     },
     "metadata": {},
     "output_type": "display_data"
    },
    {
     "data": {
      "text/html": [
       "<style>\n",
       ".list-inline {list-style: none; margin:0; padding: 0}\n",
       ".list-inline>li {display: inline-block}\n",
       ".list-inline>li:not(:last-child)::after {content: \"\\00b7\"; padding: 0 .5ex}\n",
       "</style>\n",
       "<ol class=list-inline><li>'feline'</li><li>'infectious'</li><li>'peritonitis'</li><li>'fip'</li><li>'fatal'</li><li>'chronic'</li><li>'disease'</li><li>'cats'</li><li>'caused'</li><li>'coronavirus'</li></ol>\n"
      ],
      "text/latex": [
       "\\begin{enumerate*}\n",
       "\\item 'feline'\n",
       "\\item 'infectious'\n",
       "\\item 'peritonitis'\n",
       "\\item 'fip'\n",
       "\\item 'fatal'\n",
       "\\item 'chronic'\n",
       "\\item 'disease'\n",
       "\\item 'cats'\n",
       "\\item 'caused'\n",
       "\\item 'coronavirus'\n",
       "\\end{enumerate*}\n"
      ],
      "text/markdown": [
       "1. 'feline'\n",
       "2. 'infectious'\n",
       "3. 'peritonitis'\n",
       "4. 'fip'\n",
       "5. 'fatal'\n",
       "6. 'chronic'\n",
       "7. 'disease'\n",
       "8. 'cats'\n",
       "9. 'caused'\n",
       "10. 'coronavirus'\n",
       "\n",
       "\n"
      ],
      "text/plain": [
       " [1] \"feline\"      \"infectious\"  \"peritonitis\" \"fip\"         \"fatal\"      \n",
       " [6] \"chronic\"     \"disease\"     \"cats\"        \"caused\"      \"coronavirus\""
      ]
     },
     "metadata": {},
     "output_type": "display_data"
    }
   ],
   "source": [
    "# Tokenizamos tanto abstracto como texto completo\n",
    "covid_df['abstract_text'] <- apply(covid_df['abstract_text'], 2, function(s) word_tokenizer(s, xptr = TRUE, pos_keep = character('-')))\n",
    "covid_df['body_text'] <- apply(covid_df['body_text'], 2, function(s) word_tokenizer (s, xptr = TRUE))\n",
    "\n",
    "# Mostramos los primeros cinco términos de los resúmenes y el cuerpo\n",
    "covid_df$abstract_text[[1]][1:10]\n",
    "covid_df$body_text[[1]][1:10]"
   ]
  },
  {
   "cell_type": "markdown",
   "metadata": {},
   "source": [
    "¡¡¡¡LEMATIZACION!!!!"
   ]
  },
  {
   "cell_type": "code",
   "execution_count": 50,
   "metadata": {},
   "outputs": [],
   "source": [
    "# Haciendo \"apply <- lapply\" conseguimos una paralelización del trabajo gracias a la lista que genera la tokenización de los textos\n",
    "system.time(covid_df['abstract_text'] <- apply(covid_df['abstract_text'], 2, function(s) lapply(s, function(t) lemmatize_words(t))))\n",
    "system.time(covid_df['body_text'] <- apply(covid_df['body_text'], 2, function(s) lapply(s, function(t) lemmatize_words(t))))"
   ]
  },
  {
   "cell_type": "markdown",
   "metadata": {},
   "source": [
    "!!MOSTRAR LEMATIZACION!!"
   ]
  },
  {
   "cell_type": "code",
   "execution_count": 52,
   "metadata": {},
   "outputs": [
    {
     "data": {
      "text/html": [
       "<style>\n",
       ".list-inline {list-style: none; margin:0; padding: 0}\n",
       ".list-inline>li {display: inline-block}\n",
       ".list-inline>li:not(:last-child)::after {content: \"\\00b7\"; padding: 0 .5ex}\n",
       "</style>\n",
       "<ol class=list-inline><li>'feline'</li><li>'infectious'</li><li>'peritonitis'</li><li>'virus'</li><li>'fipv'</li><li>'positive'</li><li>'cell'</li><li>'pyogranulomas'</li><li>'exudate'</li><li>'cat'</li></ol>\n"
      ],
      "text/latex": [
       "\\begin{enumerate*}\n",
       "\\item 'feline'\n",
       "\\item 'infectious'\n",
       "\\item 'peritonitis'\n",
       "\\item 'virus'\n",
       "\\item 'fipv'\n",
       "\\item 'positive'\n",
       "\\item 'cell'\n",
       "\\item 'pyogranulomas'\n",
       "\\item 'exudate'\n",
       "\\item 'cat'\n",
       "\\end{enumerate*}\n"
      ],
      "text/markdown": [
       "1. 'feline'\n",
       "2. 'infectious'\n",
       "3. 'peritonitis'\n",
       "4. 'virus'\n",
       "5. 'fipv'\n",
       "6. 'positive'\n",
       "7. 'cell'\n",
       "8. 'pyogranulomas'\n",
       "9. 'exudate'\n",
       "10. 'cat'\n",
       "\n",
       "\n"
      ],
      "text/plain": [
       " [1] \"feline\"        \"infectious\"    \"peritonitis\"   \"virus\"        \n",
       " [5] \"fipv\"          \"positive\"      \"cell\"          \"pyogranulomas\"\n",
       " [9] \"exudate\"       \"cat\"          "
      ]
     },
     "metadata": {},
     "output_type": "display_data"
    },
    {
     "data": {
      "text/html": [
       "<style>\n",
       ".list-inline {list-style: none; margin:0; padding: 0}\n",
       ".list-inline>li {display: inline-block}\n",
       ".list-inline>li:not(:last-child)::after {content: \"\\00b7\"; padding: 0 .5ex}\n",
       "</style>\n",
       "<ol class=list-inline><li>'feline'</li><li>'infectious'</li><li>'peritonitis'</li><li>'fip'</li><li>'fatal'</li><li>'chronic'</li><li>'disease'</li><li>'cat'</li><li>'cause'</li><li>'coronavirus'</li></ol>\n"
      ],
      "text/latex": [
       "\\begin{enumerate*}\n",
       "\\item 'feline'\n",
       "\\item 'infectious'\n",
       "\\item 'peritonitis'\n",
       "\\item 'fip'\n",
       "\\item 'fatal'\n",
       "\\item 'chronic'\n",
       "\\item 'disease'\n",
       "\\item 'cat'\n",
       "\\item 'cause'\n",
       "\\item 'coronavirus'\n",
       "\\end{enumerate*}\n"
      ],
      "text/markdown": [
       "1. 'feline'\n",
       "2. 'infectious'\n",
       "3. 'peritonitis'\n",
       "4. 'fip'\n",
       "5. 'fatal'\n",
       "6. 'chronic'\n",
       "7. 'disease'\n",
       "8. 'cat'\n",
       "9. 'cause'\n",
       "10. 'coronavirus'\n",
       "\n",
       "\n"
      ],
      "text/plain": [
       " [1] \"feline\"      \"infectious\"  \"peritonitis\" \"fip\"         \"fatal\"      \n",
       " [6] \"chronic\"     \"disease\"     \"cat\"         \"cause\"       \"coronavirus\""
      ]
     },
     "metadata": {},
     "output_type": "display_data"
    }
   ],
   "source": [
    "# Mostramos los primeros cinco términos de los resúmenes y el cuerpo\n",
    "covid_df$abstract_text[[1]][1:10]\n",
    "covid_df$body_text[[1]][1:10]"
   ]
  },
  {
   "cell_type": "markdown",
   "metadata": {},
   "source": [
    "!!!Comparación palabras únicas!!"
   ]
  },
  {
   "cell_type": "code",
   "execution_count": 3,
   "metadata": {},
   "outputs": [
    {
     "data": {
      "text/html": [
       "<table>\n",
       "<caption>A matrix: 3 × 5 of type int</caption>\n",
       "<thead>\n",
       "\t<tr><th></th><th scope=col>Artículo 1</th><th scope=col>Artículo 2</th><th scope=col>Artículo 3</th><th scope=col>Artículo 4</th><th scope=col>Artículo 5</th></tr>\n",
       "</thead>\n",
       "<tbody>\n",
       "\t<tr><th scope=row>Iniciales</th><td>2120</td><td>2024</td><td>977</td><td>3331</td><td>2968</td></tr>\n",
       "\t<tr><th scope=row>Finales</th><td>1089</td><td>1135</td><td>474</td><td>1838</td><td>1700</td></tr>\n",
       "\t<tr><th scope=row>Unicas</th><td> 417</td><td> 496</td><td>260</td><td> 486</td><td> 631</td></tr>\n",
       "</tbody>\n",
       "</table>\n"
      ],
      "text/latex": [
       "A matrix: 3 × 5 of type int\n",
       "\\begin{tabular}{r|lllll}\n",
       "  & Artículo 1 & Artículo 2 & Artículo 3 & Artículo 4 & Artículo 5\\\\\n",
       "\\hline\n",
       "\tIniciales & 2120 & 2024 & 977 & 3331 & 2968\\\\\n",
       "\tFinales & 1089 & 1135 & 474 & 1838 & 1700\\\\\n",
       "\tUnicas &  417 &  496 & 260 &  486 &  631\\\\\n",
       "\\end{tabular}\n"
      ],
      "text/markdown": [
       "\n",
       "A matrix: 3 × 5 of type int\n",
       "\n",
       "| <!--/--> | Artículo 1 | Artículo 2 | Artículo 3 | Artículo 4 | Artículo 5 |\n",
       "|---|---|---|---|---|---|\n",
       "| Iniciales | 2120 | 2024 | 977 | 3331 | 2968 |\n",
       "| Finales | 1089 | 1135 | 474 | 1838 | 1700 |\n",
       "| Unicas |  417 |  496 | 260 |  486 |  631 |\n",
       "\n"
      ],
      "text/plain": [
       "          Artículo 1 Artículo 2 Artículo 3 Artículo 4 Artículo 5\n",
       "Iniciales 2120       2024       977        3331       2968      \n",
       "Finales   1089       1135       474        1838       1700      \n",
       "Unicas     417        496       260         486        631      "
      ]
     },
     "metadata": {},
     "output_type": "display_data"
    }
   ],
   "source": [
    "iniciales <- covid_df$words_body[1:5]\n",
    "# Calculamos el total de palabras del cuerpo de los cinco primeros artículos...\n",
    "finales <- c(length(covid_df$body_text[[1]]), length(covid_df$body_text[[2]]), length(covid_df$body_text[[3]]), length(covid_df$body_text[[4]]), length(covid_df$body_text[[5]]))\n",
    "#... y las palabras únicas de los mismos\n",
    "unicas <- c(length(unique(covid_df$body_text[[1]])), length(unique(covid_df$body_text[[2]])), length(unique(covid_df$body_text[[3]])), length(unique(covid_df$body_text[[4]])), length(unique(covid_df$body_text[[5]])))\n",
    "# Creamos una matriz para comparar los valores y damos nombre a filas y columnas\n",
    "comparacion <- matrix(c(iniciales, finales, unicas), nrow = 3, byrow = T)\n",
    "dimnames(comparacion)<-list(c(\"Iniciales\", \"Finales\",\"Unicas\"), c(\"Artículo 1\",\"Artículo 2\",\"Artículo 3\",\"Artículo 4\",\"Artículo 5\"))\n",
    "comparacion"
   ]
  },
  {
   "cell_type": "code",
   "execution_count": null,
   "metadata": {},
   "outputs": [],
   "source": []
  }
 ],
 "metadata": {
  "kernelspec": {
   "display_name": "R",
   "language": "R",
   "name": "ir"
  },
  "language_info": {
   "codemirror_mode": "r",
   "file_extension": ".r",
   "mimetype": "text/x-r-source",
   "name": "R",
   "pygments_lexer": "r",
   "version": "3.6.1"
  }
 },
 "nbformat": 4,
 "nbformat_minor": 4
}
